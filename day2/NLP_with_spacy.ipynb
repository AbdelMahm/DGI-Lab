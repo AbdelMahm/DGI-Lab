{
 "cells": [
  {
   "cell_type": "markdown",
   "metadata": {},
   "source": [
    "# NLP with Spacy"
   ]
  },
  {
   "cell_type": "code",
<<<<<<< HEAD
   "execution_count": 1,
   "metadata": {},
   "outputs": [],
   "source": [
    "import sys\n",
    "import os\n",
    "import numpy as np\n",
    "import pandas as pd"
   ]
  },
  {
   "cell_type": "code",
   "execution_count": 2,
   "metadata": {},
   "outputs": [],
   "source": [
    "data_path = os.path.join(\"datasets\", \"\")"
   ]
  },
  {
   "cell_type": "code",
   "execution_count": 3,
=======
   "execution_count": 5,
>>>>>>> 3b08fed2c399f9efc3492fcd331e69df69f00eaf
   "metadata": {},
   "outputs": [
    {
     "name": "stdout",
     "output_type": "stream",
     "text": [
<<<<<<< HEAD
      "Monsieur le directeur, j'ai le plaisir de vous informer d'un cas d'evasion fiscale concernant la société SOKA dirigé par Monsieur Ahmadi Ahmed. La société est domiciliée à l'adresse 31 Boulevard ANNASR, Rabat, Maroc. Son registre de commerce RC: 109433 et ICE: 445566778899. Veuillez agréer Monsieur, mes salutations distinguées.\n",
      "\n",
      "\n",
      "السيد المدير، يسرني أن أبلغكم بحالة التهرب الضريبي فيما يتعلق بشركة SOKA برئاسة السيد أحمدي أحمد. يقع مقر الشركة في 31 شارع النصر، الرباط، المغرب. السجل التجاري 109433:RC و 445566778899 :ICE .تفضلوا سيدي بقبول أطيب تحياتي.\n"
=======
      "Monsieur le directeur, j'ai le plaisir de vous informer d'un cas d'evasion fiscale concernant la société SOKA dirigé par Monsieur Ahmadi Ahmed. La société est domiciliée à l'adresse 31 Boulevard ANNASR, Rabat, Maroc. Son registre de commerce RC: 112233 et ICE: 445566778899. Veuillez agréer Monsieur, mes salutations distinguées.\n",
      "\n",
      "\n",
      "السيد المدير ، يسرني أن أبلغكم بحالة التهرب الضريبي فيما يتعلق بشركة SOKA برئاسة السيد أحمدي أحمد. يقع مقر الشركة في 31 شارع النصر، الرباط ، المغرب. السجل التجاري 112233 :RC و 445566778899 :ICE .تفضلوا سيدي بقبول أطيب تحياتي.\n"
>>>>>>> 3b08fed2c399f9efc3492fcd331e69df69f00eaf
     ]
    }
   ],
   "source": [
<<<<<<< HEAD
    "file_fr = open(data_path + 'text_fr.txt', 'r')\n",
    "file_ar = open(data_path + 'text_ar.txt', 'r')\n",
=======
    "file_fr = open('text_fr.txt', 'r')\n",
    "file_ar = open('text_ar.txt', 'r')\n",
>>>>>>> 3b08fed2c399f9efc3492fcd331e69df69f00eaf
    "\n",
    "text_fr = file_fr.read()\n",
    "text_ar = file_ar.read()\n",
    "\n",
    "print(text_fr)\n",
    "print('\\n')\n",
    "print(text_ar)"
   ]
  },
  {
   "cell_type": "code",
<<<<<<< HEAD
   "execution_count": 4,
=======
   "execution_count": 14,
>>>>>>> 3b08fed2c399f9efc3492fcd331e69df69f00eaf
   "metadata": {},
   "outputs": [],
   "source": [
    "import spacy\n",
    "\n",
<<<<<<< HEAD
    "# get the link to the language model manually, (getting trouble finding the path ! (fix this later))\n",
=======
    "# get the link to the language model manually, since getting trouble finding the path ! (fix this later)\n",
>>>>>>> 3b08fed2c399f9efc3492fcd331e69df69f00eaf
    "fn_core_news_sm = \"/Applications/MiniConda3/envs/dgimllab/lib/python3.6/site-packages/fr_core_news_sm/fr_core_news_sm-2.2.5\"\n",
    "nlp = spacy.load(fn_core_news_sm)\n",
    "doc_fr = nlp(text_fr)"
   ]
  },
  {
   "cell_type": "code",
<<<<<<< HEAD
   "execution_count": 5,
=======
   "execution_count": 15,
>>>>>>> 3b08fed2c399f9efc3492fcd331e69df69f00eaf
   "metadata": {},
   "outputs": [
    {
     "name": "stdout",
     "output_type": "stream",
     "text": [
      "Token \t\tLemma \t\tPOS \t\tTag \t\tDep. \t\tShape \t\tIsAlpha \t\tIsStopW\n",
      "----------------------------------------------------------------------------------------------------\n",
      "Monsieur\t\tMonsieur\t\tNOUN\t\tNOUN__Gender=Masc|Number=Sing\t\tvocative\t\tXxxxx\t\tTrue\t\tFalse\n",
      "\n",
      "\n",
      "le\t\tle\t\tDET\t\tDET__Definite=Def|Gender=Masc|Number=Sing|PronType=Art\t\tdet\t\txx\t\tTrue\t\tTrue\n",
      "\n",
      "\n",
      "directeur\t\tdirecteur\t\tNOUN\t\tNOUN__Gender=Masc|Number=Sing\t\tnmod\t\txxxx\t\tTrue\t\tFalse\n",
      "\n",
      "\n",
      ",\t\t,\t\tPUNCT\t\tPUNCT___\t\tpunct\t\t,\t\tFalse\t\tFalse\n",
      "\n",
      "\n",
      "j'\t\tje\t\tPRON\t\tPRON__Number=Sing|Person=1\t\tnsubj\t\tx'\t\tFalse\t\tTrue\n",
      "\n",
      "\n",
      "ai\t\tavoir\t\tVERB\t\tVERB__Mood=Ind|Number=Sing|Person=1|Tense=Pres|VerbForm=Fin\t\tROOT\t\txx\t\tTrue\t\tTrue\n",
      "\n",
      "\n",
      "le\t\tle\t\tDET\t\tDET__Definite=Def|Gender=Masc|Number=Sing|PronType=Art\t\tdet\t\txx\t\tTrue\t\tTrue\n",
      "\n",
      "\n",
      "plaisir\t\tplaisir\t\tNOUN\t\tNOUN__Gender=Masc|Number=Sing\t\tobj\t\txxxx\t\tTrue\t\tFalse\n",
      "\n",
      "\n",
      "de\t\tde\t\tADP\t\tADP___\t\tmark\t\txx\t\tTrue\t\tTrue\n",
      "\n",
      "\n",
      "vous\t\tvous\t\tPRON\t\tPRON__Number=Plur|Person=2\t\tiobj\t\txxxx\t\tTrue\t\tTrue\n",
      "\n",
      "\n",
      "informer\t\tinformer\t\tVERB\t\tVERB__VerbForm=Inf\t\txcomp\t\txxxx\t\tTrue\t\tFalse\n",
      "\n",
      "\n",
      "d'\t\tde\t\tADP\t\tADP___\t\tcase\t\tx'\t\tFalse\t\tTrue\n",
      "\n",
      "\n",
      "un\t\tun\t\tDET\t\tDET__Definite=Ind|Gender=Masc|Number=Sing|PronType=Art\t\tdet\t\txx\t\tTrue\t\tTrue\n",
      "\n",
      "\n",
      "cas\t\tcas\t\tNOUN\t\tNOUN__Gender=Masc|Number=Sing\t\tobl\t\txxx\t\tTrue\t\tFalse\n",
      "\n",
      "\n",
      "d'\t\tde\t\tADP\t\tADP___\t\tcase\t\tx'\t\tFalse\t\tTrue\n",
      "\n",
      "\n",
      "evasion\t\tevasion\t\tNOUN\t\tNOUN__Gender=Fem|Number=Sing\t\tnmod\t\txxxx\t\tTrue\t\tFalse\n",
      "\n",
      "\n",
      "fiscale\t\tfiscal\t\tADJ\t\tADJ__Gender=Fem|Number=Sing\t\tamod\t\txxxx\t\tTrue\t\tFalse\n",
      "\n",
      "\n",
      "concernant\t\tconcerner\t\tVERB\t\tVERB__Tense=Pres|VerbForm=Part\t\tacl\t\txxxx\t\tTrue\t\tTrue\n",
      "\n",
      "\n",
      "la\t\tle\t\tDET\t\tDET__Definite=Def|Gender=Fem|Number=Sing|PronType=Art\t\tdet\t\txx\t\tTrue\t\tTrue\n",
      "\n",
      "\n",
      "société\t\tsociété\t\tNOUN\t\tNOUN__Gender=Fem|Number=Sing\t\tobj\t\txxxx\t\tTrue\t\tFalse\n",
      "\n",
      "\n",
      "SOKA\t\tsoka\t\tAUX\t\tAUX__Mood=Ind|Number=Sing|Person=3|Tense=Pres|VerbForm=Fin\t\tamod\t\tXXXX\t\tTrue\t\tFalse\n",
      "\n",
      "\n",
      "dirigé\t\tdiriger\t\tVERB\t\tVERB__Gender=Masc|Number=Sing|Tense=Past|VerbForm=Part\t\tacl\t\txxxx\t\tTrue\t\tFalse\n",
      "\n",
      "\n",
      "par\t\tpar\t\tADP\t\tADP___\t\tcase\t\txxx\t\tTrue\t\tTrue\n",
      "\n",
      "\n",
      "Monsieur\t\tMonsieur\t\tNOUN\t\tNOUN__Gender=Masc|Number=Sing\t\tobl\t\tXxxxx\t\tTrue\t\tFalse\n",
      "\n",
      "\n",
      "Ahmadi\t\tAhmadi\t\tPROPN\t\tPROPN___\t\tflat:name\t\tXxxxx\t\tTrue\t\tFalse\n",
      "\n",
      "\n",
      "Ahmed\t\tAhmed\t\tPROPN\t\tPROPN___\t\tflat:name\t\tXxxxx\t\tTrue\t\tFalse\n",
      "\n",
      "\n",
      ".\t\t.\t\tPUNCT\t\tPUNCT___\t\tpunct\t\t.\t\tFalse\t\tFalse\n",
      "\n",
      "\n",
      "La\t\tle\t\tDET\t\tDET__Definite=Def|Gender=Fem|Number=Sing|PronType=Art\t\tdet\t\tXx\t\tTrue\t\tTrue\n",
      "\n",
      "\n",
      "société\t\tsociété\t\tNOUN\t\tNOUN__Gender=Fem|Number=Sing\t\tnsubj:pass\t\txxxx\t\tTrue\t\tFalse\n",
      "\n",
      "\n",
      "est\t\têtre\t\tAUX\t\tAUX__Mood=Ind|Number=Sing|Person=3|Tense=Pres|VerbForm=Fin\t\taux:pass\t\txxx\t\tTrue\t\tTrue\n",
      "\n",
      "\n",
      "domiciliée\t\tdomicilier\t\tVERB\t\tVERB__Gender=Fem|Number=Sing|Tense=Past|VerbForm=Part|Voice=Pass\t\tROOT\t\txxxx\t\tTrue\t\tFalse\n",
      "\n",
      "\n",
      "à\t\tà\t\tADP\t\tADP___\t\tcase\t\tx\t\tTrue\t\tTrue\n",
      "\n",
      "\n",
      "l'\t\tle\t\tDET\t\tDET__Definite=Def|Number=Sing|PronType=Art\t\tdet\t\tx'\t\tFalse\t\tTrue\n",
      "\n",
      "\n",
      "adresse\t\tadresse\t\tNOUN\t\tNOUN__Gender=Fem|Number=Sing\t\tobl\t\txxxx\t\tTrue\t\tFalse\n",
      "\n",
      "\n",
      "31\t\t31\t\tNUM\t\tNUM__NumType=Card\t\tnummod\t\tdd\t\tFalse\t\tFalse\n",
      "\n",
      "\n",
      "Boulevard\t\tboulevard\t\tNOUN\t\tNOUN__Gender=Masc|Number=Sing\t\tobl\t\tXxxxx\t\tTrue\t\tFalse\n",
      "\n",
      "\n",
      "ANNASR\t\tANNASR\t\tPROPN\t\tPROPN___\t\tflat:name\t\tXXXX\t\tTrue\t\tFalse\n",
      "\n",
      "\n",
      ",\t\t,\t\tPUNCT\t\tPUNCT___\t\tpunct\t\t,\t\tFalse\t\tFalse\n",
      "\n",
      "\n",
      "Rabat\t\trabat\t\tNOUN\t\tNOUN__Gender=Masc|Number=Sing\t\tconj\t\tXxxxx\t\tTrue\t\tFalse\n",
      "\n",
      "\n",
      ",\t\t,\t\tPUNCT\t\tPUNCT___\t\tpunct\t\t,\t\tFalse\t\tFalse\n",
      "\n",
      "\n",
      "Maroc\t\tmaroc\t\tNOUN\t\tNOUN__Gender=Masc|Number=Plur\t\tconj\t\tXxxxx\t\tTrue\t\tFalse\n",
      "\n",
      "\n",
      ".\t\t.\t\tPUNCT\t\tPUNCT___\t\tpunct\t\t.\t\tFalse\t\tFalse\n",
      "\n",
      "\n",
      "Son\t\tson\t\tDET\t\tDET__Number=Sing|Poss=Yes\t\tnmod:poss\t\tXxx\t\tTrue\t\tTrue\n",
      "\n",
      "\n",
      "registre\t\tregistre\t\tNOUN\t\tNOUN__Gender=Masc|Number=Sing\t\tROOT\t\txxxx\t\tTrue\t\tFalse\n",
      "\n",
      "\n",
      "de\t\tde\t\tADP\t\tADP___\t\tcase\t\txx\t\tTrue\t\tTrue\n",
      "\n",
      "\n",
      "commerce\t\tcommerce\t\tNOUN\t\tNOUN__Gender=Masc|Number=Sing\t\tnmod\t\txxxx\t\tTrue\t\tFalse\n",
      "\n",
      "\n",
<<<<<<< HEAD
      "RC\t\trc\t\tNOUN\t\tNOUN___\t\tflat:name\t\tXX\t\tTrue\t\tFalse\n",
=======
      "RC\t\trc\t\tCCONJ\t\tCCONJ___\t\tflat:name\t\tXX\t\tTrue\t\tFalse\n",
>>>>>>> 3b08fed2c399f9efc3492fcd331e69df69f00eaf
      "\n",
      "\n",
      ":\t\t:\t\tPUNCT\t\tPUNCT___\t\tpunct\t\t:\t\tFalse\t\tFalse\n",
      "\n",
      "\n",
<<<<<<< HEAD
      "109433\t\t109433\t\tNUM\t\tNUM__NumType=Card\t\tappos\t\tdddd\t\tFalse\t\tFalse\n",
=======
      "112233\t\t112233\t\tNUM\t\tNUM__NumType=Card\t\tappos\t\tdddd\t\tFalse\t\tFalse\n",
>>>>>>> 3b08fed2c399f9efc3492fcd331e69df69f00eaf
      "\n",
      "\n",
      "et\t\tet\t\tCCONJ\t\tCCONJ___\t\tcc\t\txx\t\tTrue\t\tTrue\n",
      "\n",
      "\n",
      "ICE\t\tic\t\tADJ\t\tADJ___\t\tconj\t\tXXX\t\tTrue\t\tFalse\n",
      "\n",
      "\n",
      ":\t\t:\t\tPUNCT\t\tPUNCT___\t\tpunct\t\t:\t\tFalse\t\tFalse\n",
      "\n",
      "\n",
      "445566778899\t\t445566778899\t\tNUM\t\tNUM__NumType=Card\t\tnummod\t\tdddd\t\tFalse\t\tFalse\n",
      "\n",
      "\n",
      ".\t\t.\t\tPUNCT\t\tPUNCT___\t\tpunct\t\t.\t\tFalse\t\tFalse\n",
      "\n",
      "\n",
      "Veuillez\t\tvouloir\t\tAUX\t\tAUX__Mood=Imp|Number=Plur|Person=2|Tense=Pres|VerbForm=Fin\t\taux\t\tXxxxx\t\tTrue\t\tFalse\n",
      "\n",
      "\n",
      "agréer\t\tagréer\t\tVERB\t\tVERB__VerbForm=Inf\t\tROOT\t\txxxx\t\tTrue\t\tFalse\n",
      "\n",
      "\n",
      "Monsieur\t\tMonsieur\t\tNOUN\t\tNOUN__Gender=Masc|Number=Sing\t\tobj\t\tXxxxx\t\tTrue\t\tFalse\n",
      "\n",
      "\n",
      ",\t\t,\t\tPUNCT\t\tPUNCT___\t\tpunct\t\t,\t\tFalse\t\tFalse\n",
      "\n",
      "\n",
      "mes\t\tmon\t\tDET\t\tDET__Number=Plur|Poss=Yes\t\tnmod:poss\t\txxx\t\tTrue\t\tTrue\n",
      "\n",
      "\n",
      "salutations\t\tsalutation\t\tNOUN\t\tNOUN__Gender=Fem|Number=Plur\t\tconj\t\txxxx\t\tTrue\t\tFalse\n",
      "\n",
      "\n",
      "distinguées\t\tdistinguer\t\tVERB\t\tVERB__Gender=Fem|Number=Plur|Tense=Past|VerbForm=Part\t\tacl\t\txxxx\t\tTrue\t\tFalse\n",
      "\n",
      "\n",
      ".\t\t.\t\tPUNCT\t\tPUNCT___\t\tpunct\t\t.\t\tFalse\t\tFalse\n",
      "\n",
      "\n"
     ]
    }
   ],
   "source": [
    "print(f\"Token \\t\\tLemma \\t\\tPOS \\t\\tTag \\t\\tDep. \\t\\tShape \\t\\tIsAlpha \\t\\tIsStopW\".format('Token', 'Lemma', 'POS','Tag','Dep.','Shape','IsAlpha','IsStopW'))\n",
    "print(\"-\"*100)\n",
    "\n",
    "for token in doc_fr:\n",
    "    print(f\"{str(token.text)}\\t\\t{token.lemma_}\\t\\t{token.pos_}\\t\\t{token.tag_}\\t\\t{token.dep_}\\t\\t{token.shape_}\\t\\t{token.is_alpha}\\t\\t{token.is_stop}\")\n",
    "    print('\\n')"
   ]
  },
  {
   "cell_type": "markdown",
   "metadata": {},
   "source": [
    "## Pattern Matching"
   ]
  },
  {
   "cell_type": "code",
<<<<<<< HEAD
   "execution_count": 6,
=======
   "execution_count": 11,
>>>>>>> 3b08fed2c399f9efc3492fcd331e69df69f00eaf
   "metadata": {},
   "outputs": [],
   "source": [
    "from spacy.matcher import PhraseMatcher\n",
    "matcher = PhraseMatcher(nlp.vocab, attr='LOWER')"
   ]
  },
  {
   "cell_type": "code",
<<<<<<< HEAD
   "execution_count": 7,
=======
   "execution_count": 12,
>>>>>>> 3b08fed2c399f9efc3492fcd331e69df69f00eaf
   "metadata": {},
   "outputs": [],
   "source": [
    "terms = ['evasion', 'fiscale', 'société', 'registre', 'commerce']\n",
    "patterns = [nlp(text) for text in terms]\n",
    "matcher.add(\"TerminologyList\", None, *patterns)"
   ]
  },
  {
   "cell_type": "code",
<<<<<<< HEAD
   "execution_count": 8,
=======
   "execution_count": 16,
>>>>>>> 3b08fed2c399f9efc3492fcd331e69df69f00eaf
   "metadata": {},
   "outputs": [
    {
     "name": "stdout",
     "output_type": "stream",
     "text": [
      "[(3766102292120407359, 15, 16), (3766102292120407359, 16, 17), (3766102292120407359, 19, 20), (3766102292120407359, 28, 29), (3766102292120407359, 43, 44), (3766102292120407359, 45, 46)]\n"
     ]
    }
   ],
   "source": [
    "matches = matcher(doc_fr)\n",
    "print(matches)"
   ]
  },
  {
   "cell_type": "code",
<<<<<<< HEAD
   "execution_count": 9,
=======
   "execution_count": 18,
>>>>>>> 3b08fed2c399f9efc3492fcd331e69df69f00eaf
   "metadata": {},
   "outputs": [
    {
     "name": "stderr",
     "output_type": "stream",
     "text": [
      "/Library/Frameworks/Python.framework/Versions/3.7/lib/python3.7/runpy.py:193: UserWarning: [W011] It looks like you're calling displacy.serve from within a Jupyter notebook or a similar environment. This likely means you're already running a local web server, so there's no need to make displaCy start another one. Instead, you should be able to replace displacy.serve with displacy.render to show the visualization.\n",
      "  \"__main__\", mod_spec)\n"
     ]
    },
    {
     "data": {
      "text/html": [
       "<!DOCTYPE html>\n",
       "<html lang=\"fr\">\n",
       "    <head>\n",
       "        <title>displaCy</title>\n",
       "    </head>\n",
       "\n",
       "    <body style=\"font-size: 16px; font-family: -apple-system, BlinkMacSystemFont, 'Segoe UI', Helvetica, Arial, sans-serif, 'Apple Color Emoji', 'Segoe UI Emoji', 'Segoe UI Symbol'; padding: 4rem 2rem; direction: ltr\">\n",
       "<figure style=\"margin-bottom: 6rem\">\n",
<<<<<<< HEAD
       "<svg xmlns=\"http://www.w3.org/2000/svg\" xmlns:xlink=\"http://www.w3.org/1999/xlink\" xml:lang=\"fr\" id=\"681d261ed3db4e7c98424a79229b4df3-0\" class=\"displacy\" width=\"9150\" height=\"662.0\" direction=\"ltr\" style=\"max-width: none; height: 662.0px; color: #000000; background: #ffffff; font-family: Arial; direction: ltr\">\n",
=======
       "<svg xmlns=\"http://www.w3.org/2000/svg\" xmlns:xlink=\"http://www.w3.org/1999/xlink\" xml:lang=\"fr\" id=\"43044764d3ed4d86b2e4e0fc0231eb74-0\" class=\"displacy\" width=\"9150\" height=\"662.0\" direction=\"ltr\" style=\"max-width: none; height: 662.0px; color: #000000; background: #ffffff; font-family: Arial; direction: ltr\">\n",
>>>>>>> 3b08fed2c399f9efc3492fcd331e69df69f00eaf
       "<text class=\"displacy-token\" fill=\"currentColor\" text-anchor=\"middle\" y=\"572.0\">\n",
       "    <tspan class=\"displacy-word\" fill=\"currentColor\" x=\"50\">Monsieur</tspan>\n",
       "    <tspan class=\"displacy-tag\" dy=\"2em\" fill=\"currentColor\" x=\"50\">NOUN</tspan>\n",
       "</text>\n",
       "\n",
       "<text class=\"displacy-token\" fill=\"currentColor\" text-anchor=\"middle\" y=\"572.0\">\n",
       "    <tspan class=\"displacy-word\" fill=\"currentColor\" x=\"225\">le</tspan>\n",
       "    <tspan class=\"displacy-tag\" dy=\"2em\" fill=\"currentColor\" x=\"225\">DET</tspan>\n",
       "</text>\n",
       "\n",
       "<text class=\"displacy-token\" fill=\"currentColor\" text-anchor=\"middle\" y=\"572.0\">\n",
       "    <tspan class=\"displacy-word\" fill=\"currentColor\" x=\"400\">directeur,</tspan>\n",
       "    <tspan class=\"displacy-tag\" dy=\"2em\" fill=\"currentColor\" x=\"400\">NOUN</tspan>\n",
       "</text>\n",
       "\n",
       "<text class=\"displacy-token\" fill=\"currentColor\" text-anchor=\"middle\" y=\"572.0\">\n",
       "    <tspan class=\"displacy-word\" fill=\"currentColor\" x=\"575\">j'</tspan>\n",
       "    <tspan class=\"displacy-tag\" dy=\"2em\" fill=\"currentColor\" x=\"575\">PRON</tspan>\n",
       "</text>\n",
       "\n",
       "<text class=\"displacy-token\" fill=\"currentColor\" text-anchor=\"middle\" y=\"572.0\">\n",
       "    <tspan class=\"displacy-word\" fill=\"currentColor\" x=\"750\">ai</tspan>\n",
       "    <tspan class=\"displacy-tag\" dy=\"2em\" fill=\"currentColor\" x=\"750\">VERB</tspan>\n",
       "</text>\n",
       "\n",
       "<text class=\"displacy-token\" fill=\"currentColor\" text-anchor=\"middle\" y=\"572.0\">\n",
       "    <tspan class=\"displacy-word\" fill=\"currentColor\" x=\"925\">le</tspan>\n",
       "    <tspan class=\"displacy-tag\" dy=\"2em\" fill=\"currentColor\" x=\"925\">DET</tspan>\n",
       "</text>\n",
       "\n",
       "<text class=\"displacy-token\" fill=\"currentColor\" text-anchor=\"middle\" y=\"572.0\">\n",
       "    <tspan class=\"displacy-word\" fill=\"currentColor\" x=\"1100\">plaisir</tspan>\n",
       "    <tspan class=\"displacy-tag\" dy=\"2em\" fill=\"currentColor\" x=\"1100\">NOUN</tspan>\n",
       "</text>\n",
       "\n",
       "<text class=\"displacy-token\" fill=\"currentColor\" text-anchor=\"middle\" y=\"572.0\">\n",
       "    <tspan class=\"displacy-word\" fill=\"currentColor\" x=\"1275\">de</tspan>\n",
       "    <tspan class=\"displacy-tag\" dy=\"2em\" fill=\"currentColor\" x=\"1275\">ADP</tspan>\n",
       "</text>\n",
       "\n",
       "<text class=\"displacy-token\" fill=\"currentColor\" text-anchor=\"middle\" y=\"572.0\">\n",
       "    <tspan class=\"displacy-word\" fill=\"currentColor\" x=\"1450\">vous</tspan>\n",
       "    <tspan class=\"displacy-tag\" dy=\"2em\" fill=\"currentColor\" x=\"1450\">PRON</tspan>\n",
       "</text>\n",
       "\n",
       "<text class=\"displacy-token\" fill=\"currentColor\" text-anchor=\"middle\" y=\"572.0\">\n",
       "    <tspan class=\"displacy-word\" fill=\"currentColor\" x=\"1625\">informer</tspan>\n",
       "    <tspan class=\"displacy-tag\" dy=\"2em\" fill=\"currentColor\" x=\"1625\">VERB</tspan>\n",
       "</text>\n",
       "\n",
       "<text class=\"displacy-token\" fill=\"currentColor\" text-anchor=\"middle\" y=\"572.0\">\n",
       "    <tspan class=\"displacy-word\" fill=\"currentColor\" x=\"1800\">d'</tspan>\n",
       "    <tspan class=\"displacy-tag\" dy=\"2em\" fill=\"currentColor\" x=\"1800\">ADP</tspan>\n",
       "</text>\n",
       "\n",
       "<text class=\"displacy-token\" fill=\"currentColor\" text-anchor=\"middle\" y=\"572.0\">\n",
       "    <tspan class=\"displacy-word\" fill=\"currentColor\" x=\"1975\">un</tspan>\n",
       "    <tspan class=\"displacy-tag\" dy=\"2em\" fill=\"currentColor\" x=\"1975\">DET</tspan>\n",
       "</text>\n",
       "\n",
       "<text class=\"displacy-token\" fill=\"currentColor\" text-anchor=\"middle\" y=\"572.0\">\n",
       "    <tspan class=\"displacy-word\" fill=\"currentColor\" x=\"2150\">cas</tspan>\n",
       "    <tspan class=\"displacy-tag\" dy=\"2em\" fill=\"currentColor\" x=\"2150\">NOUN</tspan>\n",
       "</text>\n",
       "\n",
       "<text class=\"displacy-token\" fill=\"currentColor\" text-anchor=\"middle\" y=\"572.0\">\n",
       "    <tspan class=\"displacy-word\" fill=\"currentColor\" x=\"2325\">d'</tspan>\n",
       "    <tspan class=\"displacy-tag\" dy=\"2em\" fill=\"currentColor\" x=\"2325\">ADP</tspan>\n",
       "</text>\n",
       "\n",
       "<text class=\"displacy-token\" fill=\"currentColor\" text-anchor=\"middle\" y=\"572.0\">\n",
       "    <tspan class=\"displacy-word\" fill=\"currentColor\" x=\"2500\">evasion</tspan>\n",
       "    <tspan class=\"displacy-tag\" dy=\"2em\" fill=\"currentColor\" x=\"2500\">NOUN</tspan>\n",
       "</text>\n",
       "\n",
       "<text class=\"displacy-token\" fill=\"currentColor\" text-anchor=\"middle\" y=\"572.0\">\n",
       "    <tspan class=\"displacy-word\" fill=\"currentColor\" x=\"2675\">fiscale</tspan>\n",
       "    <tspan class=\"displacy-tag\" dy=\"2em\" fill=\"currentColor\" x=\"2675\">ADJ</tspan>\n",
       "</text>\n",
       "\n",
       "<text class=\"displacy-token\" fill=\"currentColor\" text-anchor=\"middle\" y=\"572.0\">\n",
       "    <tspan class=\"displacy-word\" fill=\"currentColor\" x=\"2850\">concernant</tspan>\n",
       "    <tspan class=\"displacy-tag\" dy=\"2em\" fill=\"currentColor\" x=\"2850\">VERB</tspan>\n",
       "</text>\n",
       "\n",
       "<text class=\"displacy-token\" fill=\"currentColor\" text-anchor=\"middle\" y=\"572.0\">\n",
       "    <tspan class=\"displacy-word\" fill=\"currentColor\" x=\"3025\">la</tspan>\n",
       "    <tspan class=\"displacy-tag\" dy=\"2em\" fill=\"currentColor\" x=\"3025\">DET</tspan>\n",
       "</text>\n",
       "\n",
       "<text class=\"displacy-token\" fill=\"currentColor\" text-anchor=\"middle\" y=\"572.0\">\n",
       "    <tspan class=\"displacy-word\" fill=\"currentColor\" x=\"3200\">société</tspan>\n",
       "    <tspan class=\"displacy-tag\" dy=\"2em\" fill=\"currentColor\" x=\"3200\">NOUN</tspan>\n",
       "</text>\n",
       "\n",
       "<text class=\"displacy-token\" fill=\"currentColor\" text-anchor=\"middle\" y=\"572.0\">\n",
       "    <tspan class=\"displacy-word\" fill=\"currentColor\" x=\"3375\">SOKA</tspan>\n",
       "    <tspan class=\"displacy-tag\" dy=\"2em\" fill=\"currentColor\" x=\"3375\">AUX</tspan>\n",
       "</text>\n",
       "\n",
       "<text class=\"displacy-token\" fill=\"currentColor\" text-anchor=\"middle\" y=\"572.0\">\n",
       "    <tspan class=\"displacy-word\" fill=\"currentColor\" x=\"3550\">dirigé</tspan>\n",
       "    <tspan class=\"displacy-tag\" dy=\"2em\" fill=\"currentColor\" x=\"3550\">VERB</tspan>\n",
       "</text>\n",
       "\n",
       "<text class=\"displacy-token\" fill=\"currentColor\" text-anchor=\"middle\" y=\"572.0\">\n",
       "    <tspan class=\"displacy-word\" fill=\"currentColor\" x=\"3725\">par</tspan>\n",
       "    <tspan class=\"displacy-tag\" dy=\"2em\" fill=\"currentColor\" x=\"3725\">ADP</tspan>\n",
       "</text>\n",
       "\n",
       "<text class=\"displacy-token\" fill=\"currentColor\" text-anchor=\"middle\" y=\"572.0\">\n",
       "    <tspan class=\"displacy-word\" fill=\"currentColor\" x=\"3900\">Monsieur</tspan>\n",
       "    <tspan class=\"displacy-tag\" dy=\"2em\" fill=\"currentColor\" x=\"3900\">NOUN</tspan>\n",
       "</text>\n",
       "\n",
       "<text class=\"displacy-token\" fill=\"currentColor\" text-anchor=\"middle\" y=\"572.0\">\n",
       "    <tspan class=\"displacy-word\" fill=\"currentColor\" x=\"4075\">Ahmadi</tspan>\n",
       "    <tspan class=\"displacy-tag\" dy=\"2em\" fill=\"currentColor\" x=\"4075\">PROPN</tspan>\n",
       "</text>\n",
       "\n",
       "<text class=\"displacy-token\" fill=\"currentColor\" text-anchor=\"middle\" y=\"572.0\">\n",
       "    <tspan class=\"displacy-word\" fill=\"currentColor\" x=\"4250\">Ahmed.</tspan>\n",
       "    <tspan class=\"displacy-tag\" dy=\"2em\" fill=\"currentColor\" x=\"4250\">PROPN</tspan>\n",
       "</text>\n",
       "\n",
       "<text class=\"displacy-token\" fill=\"currentColor\" text-anchor=\"middle\" y=\"572.0\">\n",
       "    <tspan class=\"displacy-word\" fill=\"currentColor\" x=\"4425\">La</tspan>\n",
       "    <tspan class=\"displacy-tag\" dy=\"2em\" fill=\"currentColor\" x=\"4425\">DET</tspan>\n",
       "</text>\n",
       "\n",
       "<text class=\"displacy-token\" fill=\"currentColor\" text-anchor=\"middle\" y=\"572.0\">\n",
       "    <tspan class=\"displacy-word\" fill=\"currentColor\" x=\"4600\">société</tspan>\n",
       "    <tspan class=\"displacy-tag\" dy=\"2em\" fill=\"currentColor\" x=\"4600\">NOUN</tspan>\n",
       "</text>\n",
       "\n",
       "<text class=\"displacy-token\" fill=\"currentColor\" text-anchor=\"middle\" y=\"572.0\">\n",
       "    <tspan class=\"displacy-word\" fill=\"currentColor\" x=\"4775\">est</tspan>\n",
       "    <tspan class=\"displacy-tag\" dy=\"2em\" fill=\"currentColor\" x=\"4775\">AUX</tspan>\n",
       "</text>\n",
       "\n",
       "<text class=\"displacy-token\" fill=\"currentColor\" text-anchor=\"middle\" y=\"572.0\">\n",
       "    <tspan class=\"displacy-word\" fill=\"currentColor\" x=\"4950\">domiciliée</tspan>\n",
       "    <tspan class=\"displacy-tag\" dy=\"2em\" fill=\"currentColor\" x=\"4950\">VERB</tspan>\n",
       "</text>\n",
       "\n",
       "<text class=\"displacy-token\" fill=\"currentColor\" text-anchor=\"middle\" y=\"572.0\">\n",
       "    <tspan class=\"displacy-word\" fill=\"currentColor\" x=\"5125\">à</tspan>\n",
       "    <tspan class=\"displacy-tag\" dy=\"2em\" fill=\"currentColor\" x=\"5125\">ADP</tspan>\n",
       "</text>\n",
       "\n",
       "<text class=\"displacy-token\" fill=\"currentColor\" text-anchor=\"middle\" y=\"572.0\">\n",
       "    <tspan class=\"displacy-word\" fill=\"currentColor\" x=\"5300\">l'</tspan>\n",
       "    <tspan class=\"displacy-tag\" dy=\"2em\" fill=\"currentColor\" x=\"5300\">DET</tspan>\n",
       "</text>\n",
       "\n",
       "<text class=\"displacy-token\" fill=\"currentColor\" text-anchor=\"middle\" y=\"572.0\">\n",
       "    <tspan class=\"displacy-word\" fill=\"currentColor\" x=\"5475\">adresse</tspan>\n",
       "    <tspan class=\"displacy-tag\" dy=\"2em\" fill=\"currentColor\" x=\"5475\">NOUN</tspan>\n",
       "</text>\n",
       "\n",
       "<text class=\"displacy-token\" fill=\"currentColor\" text-anchor=\"middle\" y=\"572.0\">\n",
       "    <tspan class=\"displacy-word\" fill=\"currentColor\" x=\"5650\">31</tspan>\n",
       "    <tspan class=\"displacy-tag\" dy=\"2em\" fill=\"currentColor\" x=\"5650\">NUM</tspan>\n",
       "</text>\n",
       "\n",
       "<text class=\"displacy-token\" fill=\"currentColor\" text-anchor=\"middle\" y=\"572.0\">\n",
       "    <tspan class=\"displacy-word\" fill=\"currentColor\" x=\"5825\">Boulevard</tspan>\n",
       "    <tspan class=\"displacy-tag\" dy=\"2em\" fill=\"currentColor\" x=\"5825\">NOUN</tspan>\n",
       "</text>\n",
       "\n",
       "<text class=\"displacy-token\" fill=\"currentColor\" text-anchor=\"middle\" y=\"572.0\">\n",
       "    <tspan class=\"displacy-word\" fill=\"currentColor\" x=\"6000\">ANNASR,</tspan>\n",
       "    <tspan class=\"displacy-tag\" dy=\"2em\" fill=\"currentColor\" x=\"6000\">PROPN</tspan>\n",
       "</text>\n",
       "\n",
       "<text class=\"displacy-token\" fill=\"currentColor\" text-anchor=\"middle\" y=\"572.0\">\n",
       "    <tspan class=\"displacy-word\" fill=\"currentColor\" x=\"6175\">Rabat,</tspan>\n",
       "    <tspan class=\"displacy-tag\" dy=\"2em\" fill=\"currentColor\" x=\"6175\">NOUN</tspan>\n",
       "</text>\n",
       "\n",
       "<text class=\"displacy-token\" fill=\"currentColor\" text-anchor=\"middle\" y=\"572.0\">\n",
       "    <tspan class=\"displacy-word\" fill=\"currentColor\" x=\"6350\">Maroc.</tspan>\n",
       "    <tspan class=\"displacy-tag\" dy=\"2em\" fill=\"currentColor\" x=\"6350\">NOUN</tspan>\n",
       "</text>\n",
       "\n",
       "<text class=\"displacy-token\" fill=\"currentColor\" text-anchor=\"middle\" y=\"572.0\">\n",
       "    <tspan class=\"displacy-word\" fill=\"currentColor\" x=\"6525\">Son</tspan>\n",
       "    <tspan class=\"displacy-tag\" dy=\"2em\" fill=\"currentColor\" x=\"6525\">DET</tspan>\n",
       "</text>\n",
       "\n",
       "<text class=\"displacy-token\" fill=\"currentColor\" text-anchor=\"middle\" y=\"572.0\">\n",
       "    <tspan class=\"displacy-word\" fill=\"currentColor\" x=\"6700\">registre</tspan>\n",
       "    <tspan class=\"displacy-tag\" dy=\"2em\" fill=\"currentColor\" x=\"6700\">NOUN</tspan>\n",
       "</text>\n",
       "\n",
       "<text class=\"displacy-token\" fill=\"currentColor\" text-anchor=\"middle\" y=\"572.0\">\n",
       "    <tspan class=\"displacy-word\" fill=\"currentColor\" x=\"6875\">de</tspan>\n",
       "    <tspan class=\"displacy-tag\" dy=\"2em\" fill=\"currentColor\" x=\"6875\">ADP</tspan>\n",
       "</text>\n",
       "\n",
       "<text class=\"displacy-token\" fill=\"currentColor\" text-anchor=\"middle\" y=\"572.0\">\n",
       "    <tspan class=\"displacy-word\" fill=\"currentColor\" x=\"7050\">commerce</tspan>\n",
       "    <tspan class=\"displacy-tag\" dy=\"2em\" fill=\"currentColor\" x=\"7050\">NOUN</tspan>\n",
       "</text>\n",
       "\n",
       "<text class=\"displacy-token\" fill=\"currentColor\" text-anchor=\"middle\" y=\"572.0\">\n",
       "    <tspan class=\"displacy-word\" fill=\"currentColor\" x=\"7225\">RC:</tspan>\n",
<<<<<<< HEAD
       "    <tspan class=\"displacy-tag\" dy=\"2em\" fill=\"currentColor\" x=\"7225\">NOUN</tspan>\n",
       "</text>\n",
       "\n",
       "<text class=\"displacy-token\" fill=\"currentColor\" text-anchor=\"middle\" y=\"572.0\">\n",
       "    <tspan class=\"displacy-word\" fill=\"currentColor\" x=\"7400\">109433</tspan>\n",
=======
       "    <tspan class=\"displacy-tag\" dy=\"2em\" fill=\"currentColor\" x=\"7225\">CCONJ</tspan>\n",
       "</text>\n",
       "\n",
       "<text class=\"displacy-token\" fill=\"currentColor\" text-anchor=\"middle\" y=\"572.0\">\n",
       "    <tspan class=\"displacy-word\" fill=\"currentColor\" x=\"7400\">112233</tspan>\n",
>>>>>>> 3b08fed2c399f9efc3492fcd331e69df69f00eaf
       "    <tspan class=\"displacy-tag\" dy=\"2em\" fill=\"currentColor\" x=\"7400\">NUM</tspan>\n",
       "</text>\n",
       "\n",
       "<text class=\"displacy-token\" fill=\"currentColor\" text-anchor=\"middle\" y=\"572.0\">\n",
       "    <tspan class=\"displacy-word\" fill=\"currentColor\" x=\"7575\">et</tspan>\n",
       "    <tspan class=\"displacy-tag\" dy=\"2em\" fill=\"currentColor\" x=\"7575\">CCONJ</tspan>\n",
       "</text>\n",
       "\n",
       "<text class=\"displacy-token\" fill=\"currentColor\" text-anchor=\"middle\" y=\"572.0\">\n",
       "    <tspan class=\"displacy-word\" fill=\"currentColor\" x=\"7750\">ICE:</tspan>\n",
       "    <tspan class=\"displacy-tag\" dy=\"2em\" fill=\"currentColor\" x=\"7750\">ADJ</tspan>\n",
       "</text>\n",
       "\n",
       "<text class=\"displacy-token\" fill=\"currentColor\" text-anchor=\"middle\" y=\"572.0\">\n",
       "    <tspan class=\"displacy-word\" fill=\"currentColor\" x=\"7925\">445566778899.</tspan>\n",
       "    <tspan class=\"displacy-tag\" dy=\"2em\" fill=\"currentColor\" x=\"7925\">NUM</tspan>\n",
       "</text>\n",
       "\n",
       "<text class=\"displacy-token\" fill=\"currentColor\" text-anchor=\"middle\" y=\"572.0\">\n",
       "    <tspan class=\"displacy-word\" fill=\"currentColor\" x=\"8100\">Veuillez</tspan>\n",
       "    <tspan class=\"displacy-tag\" dy=\"2em\" fill=\"currentColor\" x=\"8100\">AUX</tspan>\n",
       "</text>\n",
       "\n",
       "<text class=\"displacy-token\" fill=\"currentColor\" text-anchor=\"middle\" y=\"572.0\">\n",
       "    <tspan class=\"displacy-word\" fill=\"currentColor\" x=\"8275\">agréer</tspan>\n",
       "    <tspan class=\"displacy-tag\" dy=\"2em\" fill=\"currentColor\" x=\"8275\">VERB</tspan>\n",
       "</text>\n",
       "\n",
       "<text class=\"displacy-token\" fill=\"currentColor\" text-anchor=\"middle\" y=\"572.0\">\n",
       "    <tspan class=\"displacy-word\" fill=\"currentColor\" x=\"8450\">Monsieur,</tspan>\n",
       "    <tspan class=\"displacy-tag\" dy=\"2em\" fill=\"currentColor\" x=\"8450\">NOUN</tspan>\n",
       "</text>\n",
       "\n",
       "<text class=\"displacy-token\" fill=\"currentColor\" text-anchor=\"middle\" y=\"572.0\">\n",
       "    <tspan class=\"displacy-word\" fill=\"currentColor\" x=\"8625\">mes</tspan>\n",
       "    <tspan class=\"displacy-tag\" dy=\"2em\" fill=\"currentColor\" x=\"8625\">DET</tspan>\n",
       "</text>\n",
       "\n",
       "<text class=\"displacy-token\" fill=\"currentColor\" text-anchor=\"middle\" y=\"572.0\">\n",
       "    <tspan class=\"displacy-word\" fill=\"currentColor\" x=\"8800\">salutations</tspan>\n",
       "    <tspan class=\"displacy-tag\" dy=\"2em\" fill=\"currentColor\" x=\"8800\">NOUN</tspan>\n",
       "</text>\n",
       "\n",
       "<text class=\"displacy-token\" fill=\"currentColor\" text-anchor=\"middle\" y=\"572.0\">\n",
       "    <tspan class=\"displacy-word\" fill=\"currentColor\" x=\"8975\">distinguées.</tspan>\n",
       "    <tspan class=\"displacy-tag\" dy=\"2em\" fill=\"currentColor\" x=\"8975\">VERB</tspan>\n",
       "</text>\n",
       "\n",
       "<g class=\"displacy-arrow\">\n",
<<<<<<< HEAD
       "    <path class=\"displacy-arc\" id=\"arrow-681d261ed3db4e7c98424a79229b4df3-0-0\" stroke-width=\"2px\" d=\"M70,527.0 C70,177.0 740.0,177.0 740.0,527.0\" fill=\"none\" stroke=\"currentColor\"/>\n",
       "    <text dy=\"1.25em\" style=\"font-size: 0.8em; letter-spacing: 1px\">\n",
       "        <textPath xlink:href=\"#arrow-681d261ed3db4e7c98424a79229b4df3-0-0\" class=\"displacy-label\" startOffset=\"50%\" side=\"left\" fill=\"currentColor\" text-anchor=\"middle\">vocative</textPath>\n",
=======
       "    <path class=\"displacy-arc\" id=\"arrow-43044764d3ed4d86b2e4e0fc0231eb74-0-0\" stroke-width=\"2px\" d=\"M70,527.0 C70,177.0 740.0,177.0 740.0,527.0\" fill=\"none\" stroke=\"currentColor\"/>\n",
       "    <text dy=\"1.25em\" style=\"font-size: 0.8em; letter-spacing: 1px\">\n",
       "        <textPath xlink:href=\"#arrow-43044764d3ed4d86b2e4e0fc0231eb74-0-0\" class=\"displacy-label\" startOffset=\"50%\" side=\"left\" fill=\"currentColor\" text-anchor=\"middle\">vocative</textPath>\n",
>>>>>>> 3b08fed2c399f9efc3492fcd331e69df69f00eaf
       "    </text>\n",
       "    <path class=\"displacy-arrowhead\" d=\"M70,529.0 L62,517.0 78,517.0\" fill=\"currentColor\"/>\n",
       "</g>\n",
       "\n",
       "<g class=\"displacy-arrow\">\n",
<<<<<<< HEAD
       "    <path class=\"displacy-arc\" id=\"arrow-681d261ed3db4e7c98424a79229b4df3-0-1\" stroke-width=\"2px\" d=\"M245,527.0 C245,439.5 375.0,439.5 375.0,527.0\" fill=\"none\" stroke=\"currentColor\"/>\n",
       "    <text dy=\"1.25em\" style=\"font-size: 0.8em; letter-spacing: 1px\">\n",
       "        <textPath xlink:href=\"#arrow-681d261ed3db4e7c98424a79229b4df3-0-1\" class=\"displacy-label\" startOffset=\"50%\" side=\"left\" fill=\"currentColor\" text-anchor=\"middle\">det</textPath>\n",
=======
       "    <path class=\"displacy-arc\" id=\"arrow-43044764d3ed4d86b2e4e0fc0231eb74-0-1\" stroke-width=\"2px\" d=\"M245,527.0 C245,439.5 375.0,439.5 375.0,527.0\" fill=\"none\" stroke=\"currentColor\"/>\n",
       "    <text dy=\"1.25em\" style=\"font-size: 0.8em; letter-spacing: 1px\">\n",
       "        <textPath xlink:href=\"#arrow-43044764d3ed4d86b2e4e0fc0231eb74-0-1\" class=\"displacy-label\" startOffset=\"50%\" side=\"left\" fill=\"currentColor\" text-anchor=\"middle\">det</textPath>\n",
>>>>>>> 3b08fed2c399f9efc3492fcd331e69df69f00eaf
       "    </text>\n",
       "    <path class=\"displacy-arrowhead\" d=\"M245,529.0 L237,517.0 253,517.0\" fill=\"currentColor\"/>\n",
       "</g>\n",
       "\n",
       "<g class=\"displacy-arrow\">\n",
<<<<<<< HEAD
       "    <path class=\"displacy-arc\" id=\"arrow-681d261ed3db4e7c98424a79229b4df3-0-2\" stroke-width=\"2px\" d=\"M70,527.0 C70,352.0 380.0,352.0 380.0,527.0\" fill=\"none\" stroke=\"currentColor\"/>\n",
       "    <text dy=\"1.25em\" style=\"font-size: 0.8em; letter-spacing: 1px\">\n",
       "        <textPath xlink:href=\"#arrow-681d261ed3db4e7c98424a79229b4df3-0-2\" class=\"displacy-label\" startOffset=\"50%\" side=\"left\" fill=\"currentColor\" text-anchor=\"middle\">nmod</textPath>\n",
=======
       "    <path class=\"displacy-arc\" id=\"arrow-43044764d3ed4d86b2e4e0fc0231eb74-0-2\" stroke-width=\"2px\" d=\"M70,527.0 C70,352.0 380.0,352.0 380.0,527.0\" fill=\"none\" stroke=\"currentColor\"/>\n",
       "    <text dy=\"1.25em\" style=\"font-size: 0.8em; letter-spacing: 1px\">\n",
       "        <textPath xlink:href=\"#arrow-43044764d3ed4d86b2e4e0fc0231eb74-0-2\" class=\"displacy-label\" startOffset=\"50%\" side=\"left\" fill=\"currentColor\" text-anchor=\"middle\">nmod</textPath>\n",
>>>>>>> 3b08fed2c399f9efc3492fcd331e69df69f00eaf
       "    </text>\n",
       "    <path class=\"displacy-arrowhead\" d=\"M380.0,529.0 L388.0,517.0 372.0,517.0\" fill=\"currentColor\"/>\n",
       "</g>\n",
       "\n",
       "<g class=\"displacy-arrow\">\n",
<<<<<<< HEAD
       "    <path class=\"displacy-arc\" id=\"arrow-681d261ed3db4e7c98424a79229b4df3-0-3\" stroke-width=\"2px\" d=\"M595,527.0 C595,439.5 725.0,439.5 725.0,527.0\" fill=\"none\" stroke=\"currentColor\"/>\n",
       "    <text dy=\"1.25em\" style=\"font-size: 0.8em; letter-spacing: 1px\">\n",
       "        <textPath xlink:href=\"#arrow-681d261ed3db4e7c98424a79229b4df3-0-3\" class=\"displacy-label\" startOffset=\"50%\" side=\"left\" fill=\"currentColor\" text-anchor=\"middle\">nsubj</textPath>\n",
=======
       "    <path class=\"displacy-arc\" id=\"arrow-43044764d3ed4d86b2e4e0fc0231eb74-0-3\" stroke-width=\"2px\" d=\"M595,527.0 C595,439.5 725.0,439.5 725.0,527.0\" fill=\"none\" stroke=\"currentColor\"/>\n",
       "    <text dy=\"1.25em\" style=\"font-size: 0.8em; letter-spacing: 1px\">\n",
       "        <textPath xlink:href=\"#arrow-43044764d3ed4d86b2e4e0fc0231eb74-0-3\" class=\"displacy-label\" startOffset=\"50%\" side=\"left\" fill=\"currentColor\" text-anchor=\"middle\">nsubj</textPath>\n",
>>>>>>> 3b08fed2c399f9efc3492fcd331e69df69f00eaf
       "    </text>\n",
       "    <path class=\"displacy-arrowhead\" d=\"M595,529.0 L587,517.0 603,517.0\" fill=\"currentColor\"/>\n",
       "</g>\n",
       "\n",
       "<g class=\"displacy-arrow\">\n",
<<<<<<< HEAD
       "    <path class=\"displacy-arc\" id=\"arrow-681d261ed3db4e7c98424a79229b4df3-0-4\" stroke-width=\"2px\" d=\"M945,527.0 C945,439.5 1075.0,439.5 1075.0,527.0\" fill=\"none\" stroke=\"currentColor\"/>\n",
       "    <text dy=\"1.25em\" style=\"font-size: 0.8em; letter-spacing: 1px\">\n",
       "        <textPath xlink:href=\"#arrow-681d261ed3db4e7c98424a79229b4df3-0-4\" class=\"displacy-label\" startOffset=\"50%\" side=\"left\" fill=\"currentColor\" text-anchor=\"middle\">det</textPath>\n",
=======
       "    <path class=\"displacy-arc\" id=\"arrow-43044764d3ed4d86b2e4e0fc0231eb74-0-4\" stroke-width=\"2px\" d=\"M945,527.0 C945,439.5 1075.0,439.5 1075.0,527.0\" fill=\"none\" stroke=\"currentColor\"/>\n",
       "    <text dy=\"1.25em\" style=\"font-size: 0.8em; letter-spacing: 1px\">\n",
       "        <textPath xlink:href=\"#arrow-43044764d3ed4d86b2e4e0fc0231eb74-0-4\" class=\"displacy-label\" startOffset=\"50%\" side=\"left\" fill=\"currentColor\" text-anchor=\"middle\">det</textPath>\n",
>>>>>>> 3b08fed2c399f9efc3492fcd331e69df69f00eaf
       "    </text>\n",
       "    <path class=\"displacy-arrowhead\" d=\"M945,529.0 L937,517.0 953,517.0\" fill=\"currentColor\"/>\n",
       "</g>\n",
       "\n",
       "<g class=\"displacy-arrow\">\n",
<<<<<<< HEAD
       "    <path class=\"displacy-arc\" id=\"arrow-681d261ed3db4e7c98424a79229b4df3-0-5\" stroke-width=\"2px\" d=\"M770,527.0 C770,352.0 1080.0,352.0 1080.0,527.0\" fill=\"none\" stroke=\"currentColor\"/>\n",
       "    <text dy=\"1.25em\" style=\"font-size: 0.8em; letter-spacing: 1px\">\n",
       "        <textPath xlink:href=\"#arrow-681d261ed3db4e7c98424a79229b4df3-0-5\" class=\"displacy-label\" startOffset=\"50%\" side=\"left\" fill=\"currentColor\" text-anchor=\"middle\">obj</textPath>\n",
=======
       "    <path class=\"displacy-arc\" id=\"arrow-43044764d3ed4d86b2e4e0fc0231eb74-0-5\" stroke-width=\"2px\" d=\"M770,527.0 C770,352.0 1080.0,352.0 1080.0,527.0\" fill=\"none\" stroke=\"currentColor\"/>\n",
       "    <text dy=\"1.25em\" style=\"font-size: 0.8em; letter-spacing: 1px\">\n",
       "        <textPath xlink:href=\"#arrow-43044764d3ed4d86b2e4e0fc0231eb74-0-5\" class=\"displacy-label\" startOffset=\"50%\" side=\"left\" fill=\"currentColor\" text-anchor=\"middle\">obj</textPath>\n",
>>>>>>> 3b08fed2c399f9efc3492fcd331e69df69f00eaf
       "    </text>\n",
       "    <path class=\"displacy-arrowhead\" d=\"M1080.0,529.0 L1088.0,517.0 1072.0,517.0\" fill=\"currentColor\"/>\n",
       "</g>\n",
       "\n",
       "<g class=\"displacy-arrow\">\n",
<<<<<<< HEAD
       "    <path class=\"displacy-arc\" id=\"arrow-681d261ed3db4e7c98424a79229b4df3-0-6\" stroke-width=\"2px\" d=\"M1295,527.0 C1295,352.0 1605.0,352.0 1605.0,527.0\" fill=\"none\" stroke=\"currentColor\"/>\n",
       "    <text dy=\"1.25em\" style=\"font-size: 0.8em; letter-spacing: 1px\">\n",
       "        <textPath xlink:href=\"#arrow-681d261ed3db4e7c98424a79229b4df3-0-6\" class=\"displacy-label\" startOffset=\"50%\" side=\"left\" fill=\"currentColor\" text-anchor=\"middle\">mark</textPath>\n",
=======
       "    <path class=\"displacy-arc\" id=\"arrow-43044764d3ed4d86b2e4e0fc0231eb74-0-6\" stroke-width=\"2px\" d=\"M1295,527.0 C1295,352.0 1605.0,352.0 1605.0,527.0\" fill=\"none\" stroke=\"currentColor\"/>\n",
       "    <text dy=\"1.25em\" style=\"font-size: 0.8em; letter-spacing: 1px\">\n",
       "        <textPath xlink:href=\"#arrow-43044764d3ed4d86b2e4e0fc0231eb74-0-6\" class=\"displacy-label\" startOffset=\"50%\" side=\"left\" fill=\"currentColor\" text-anchor=\"middle\">mark</textPath>\n",
>>>>>>> 3b08fed2c399f9efc3492fcd331e69df69f00eaf
       "    </text>\n",
       "    <path class=\"displacy-arrowhead\" d=\"M1295,529.0 L1287,517.0 1303,517.0\" fill=\"currentColor\"/>\n",
       "</g>\n",
       "\n",
       "<g class=\"displacy-arrow\">\n",
<<<<<<< HEAD
       "    <path class=\"displacy-arc\" id=\"arrow-681d261ed3db4e7c98424a79229b4df3-0-7\" stroke-width=\"2px\" d=\"M1470,527.0 C1470,439.5 1600.0,439.5 1600.0,527.0\" fill=\"none\" stroke=\"currentColor\"/>\n",
       "    <text dy=\"1.25em\" style=\"font-size: 0.8em; letter-spacing: 1px\">\n",
       "        <textPath xlink:href=\"#arrow-681d261ed3db4e7c98424a79229b4df3-0-7\" class=\"displacy-label\" startOffset=\"50%\" side=\"left\" fill=\"currentColor\" text-anchor=\"middle\">iobj</textPath>\n",
=======
       "    <path class=\"displacy-arc\" id=\"arrow-43044764d3ed4d86b2e4e0fc0231eb74-0-7\" stroke-width=\"2px\" d=\"M1470,527.0 C1470,439.5 1600.0,439.5 1600.0,527.0\" fill=\"none\" stroke=\"currentColor\"/>\n",
       "    <text dy=\"1.25em\" style=\"font-size: 0.8em; letter-spacing: 1px\">\n",
       "        <textPath xlink:href=\"#arrow-43044764d3ed4d86b2e4e0fc0231eb74-0-7\" class=\"displacy-label\" startOffset=\"50%\" side=\"left\" fill=\"currentColor\" text-anchor=\"middle\">iobj</textPath>\n",
>>>>>>> 3b08fed2c399f9efc3492fcd331e69df69f00eaf
       "    </text>\n",
       "    <path class=\"displacy-arrowhead\" d=\"M1470,529.0 L1462,517.0 1478,517.0\" fill=\"currentColor\"/>\n",
       "</g>\n",
       "\n",
       "<g class=\"displacy-arrow\">\n",
<<<<<<< HEAD
       "    <path class=\"displacy-arc\" id=\"arrow-681d261ed3db4e7c98424a79229b4df3-0-8\" stroke-width=\"2px\" d=\"M770,527.0 C770,89.5 1620.0,89.5 1620.0,527.0\" fill=\"none\" stroke=\"currentColor\"/>\n",
       "    <text dy=\"1.25em\" style=\"font-size: 0.8em; letter-spacing: 1px\">\n",
       "        <textPath xlink:href=\"#arrow-681d261ed3db4e7c98424a79229b4df3-0-8\" class=\"displacy-label\" startOffset=\"50%\" side=\"left\" fill=\"currentColor\" text-anchor=\"middle\">xcomp</textPath>\n",
=======
       "    <path class=\"displacy-arc\" id=\"arrow-43044764d3ed4d86b2e4e0fc0231eb74-0-8\" stroke-width=\"2px\" d=\"M770,527.0 C770,89.5 1620.0,89.5 1620.0,527.0\" fill=\"none\" stroke=\"currentColor\"/>\n",
       "    <text dy=\"1.25em\" style=\"font-size: 0.8em; letter-spacing: 1px\">\n",
       "        <textPath xlink:href=\"#arrow-43044764d3ed4d86b2e4e0fc0231eb74-0-8\" class=\"displacy-label\" startOffset=\"50%\" side=\"left\" fill=\"currentColor\" text-anchor=\"middle\">xcomp</textPath>\n",
>>>>>>> 3b08fed2c399f9efc3492fcd331e69df69f00eaf
       "    </text>\n",
       "    <path class=\"displacy-arrowhead\" d=\"M1620.0,529.0 L1628.0,517.0 1612.0,517.0\" fill=\"currentColor\"/>\n",
       "</g>\n",
       "\n",
       "<g class=\"displacy-arrow\">\n",
<<<<<<< HEAD
       "    <path class=\"displacy-arc\" id=\"arrow-681d261ed3db4e7c98424a79229b4df3-0-9\" stroke-width=\"2px\" d=\"M1820,527.0 C1820,352.0 2130.0,352.0 2130.0,527.0\" fill=\"none\" stroke=\"currentColor\"/>\n",
       "    <text dy=\"1.25em\" style=\"font-size: 0.8em; letter-spacing: 1px\">\n",
       "        <textPath xlink:href=\"#arrow-681d261ed3db4e7c98424a79229b4df3-0-9\" class=\"displacy-label\" startOffset=\"50%\" side=\"left\" fill=\"currentColor\" text-anchor=\"middle\">case</textPath>\n",
=======
       "    <path class=\"displacy-arc\" id=\"arrow-43044764d3ed4d86b2e4e0fc0231eb74-0-9\" stroke-width=\"2px\" d=\"M1820,527.0 C1820,352.0 2130.0,352.0 2130.0,527.0\" fill=\"none\" stroke=\"currentColor\"/>\n",
       "    <text dy=\"1.25em\" style=\"font-size: 0.8em; letter-spacing: 1px\">\n",
       "        <textPath xlink:href=\"#arrow-43044764d3ed4d86b2e4e0fc0231eb74-0-9\" class=\"displacy-label\" startOffset=\"50%\" side=\"left\" fill=\"currentColor\" text-anchor=\"middle\">case</textPath>\n",
>>>>>>> 3b08fed2c399f9efc3492fcd331e69df69f00eaf
       "    </text>\n",
       "    <path class=\"displacy-arrowhead\" d=\"M1820,529.0 L1812,517.0 1828,517.0\" fill=\"currentColor\"/>\n",
       "</g>\n",
       "\n",
       "<g class=\"displacy-arrow\">\n",
<<<<<<< HEAD
       "    <path class=\"displacy-arc\" id=\"arrow-681d261ed3db4e7c98424a79229b4df3-0-10\" stroke-width=\"2px\" d=\"M1995,527.0 C1995,439.5 2125.0,439.5 2125.0,527.0\" fill=\"none\" stroke=\"currentColor\"/>\n",
       "    <text dy=\"1.25em\" style=\"font-size: 0.8em; letter-spacing: 1px\">\n",
       "        <textPath xlink:href=\"#arrow-681d261ed3db4e7c98424a79229b4df3-0-10\" class=\"displacy-label\" startOffset=\"50%\" side=\"left\" fill=\"currentColor\" text-anchor=\"middle\">det</textPath>\n",
=======
       "    <path class=\"displacy-arc\" id=\"arrow-43044764d3ed4d86b2e4e0fc0231eb74-0-10\" stroke-width=\"2px\" d=\"M1995,527.0 C1995,439.5 2125.0,439.5 2125.0,527.0\" fill=\"none\" stroke=\"currentColor\"/>\n",
       "    <text dy=\"1.25em\" style=\"font-size: 0.8em; letter-spacing: 1px\">\n",
       "        <textPath xlink:href=\"#arrow-43044764d3ed4d86b2e4e0fc0231eb74-0-10\" class=\"displacy-label\" startOffset=\"50%\" side=\"left\" fill=\"currentColor\" text-anchor=\"middle\">det</textPath>\n",
>>>>>>> 3b08fed2c399f9efc3492fcd331e69df69f00eaf
       "    </text>\n",
       "    <path class=\"displacy-arrowhead\" d=\"M1995,529.0 L1987,517.0 2003,517.0\" fill=\"currentColor\"/>\n",
       "</g>\n",
       "\n",
       "<g class=\"displacy-arrow\">\n",
<<<<<<< HEAD
       "    <path class=\"displacy-arc\" id=\"arrow-681d261ed3db4e7c98424a79229b4df3-0-11\" stroke-width=\"2px\" d=\"M1645,527.0 C1645,264.5 2135.0,264.5 2135.0,527.0\" fill=\"none\" stroke=\"currentColor\"/>\n",
       "    <text dy=\"1.25em\" style=\"font-size: 0.8em; letter-spacing: 1px\">\n",
       "        <textPath xlink:href=\"#arrow-681d261ed3db4e7c98424a79229b4df3-0-11\" class=\"displacy-label\" startOffset=\"50%\" side=\"left\" fill=\"currentColor\" text-anchor=\"middle\">obl</textPath>\n",
=======
       "    <path class=\"displacy-arc\" id=\"arrow-43044764d3ed4d86b2e4e0fc0231eb74-0-11\" stroke-width=\"2px\" d=\"M1645,527.0 C1645,264.5 2135.0,264.5 2135.0,527.0\" fill=\"none\" stroke=\"currentColor\"/>\n",
       "    <text dy=\"1.25em\" style=\"font-size: 0.8em; letter-spacing: 1px\">\n",
       "        <textPath xlink:href=\"#arrow-43044764d3ed4d86b2e4e0fc0231eb74-0-11\" class=\"displacy-label\" startOffset=\"50%\" side=\"left\" fill=\"currentColor\" text-anchor=\"middle\">obl</textPath>\n",
>>>>>>> 3b08fed2c399f9efc3492fcd331e69df69f00eaf
       "    </text>\n",
       "    <path class=\"displacy-arrowhead\" d=\"M2135.0,529.0 L2143.0,517.0 2127.0,517.0\" fill=\"currentColor\"/>\n",
       "</g>\n",
       "\n",
       "<g class=\"displacy-arrow\">\n",
<<<<<<< HEAD
       "    <path class=\"displacy-arc\" id=\"arrow-681d261ed3db4e7c98424a79229b4df3-0-12\" stroke-width=\"2px\" d=\"M2345,527.0 C2345,439.5 2475.0,439.5 2475.0,527.0\" fill=\"none\" stroke=\"currentColor\"/>\n",
       "    <text dy=\"1.25em\" style=\"font-size: 0.8em; letter-spacing: 1px\">\n",
       "        <textPath xlink:href=\"#arrow-681d261ed3db4e7c98424a79229b4df3-0-12\" class=\"displacy-label\" startOffset=\"50%\" side=\"left\" fill=\"currentColor\" text-anchor=\"middle\">case</textPath>\n",
=======
       "    <path class=\"displacy-arc\" id=\"arrow-43044764d3ed4d86b2e4e0fc0231eb74-0-12\" stroke-width=\"2px\" d=\"M2345,527.0 C2345,439.5 2475.0,439.5 2475.0,527.0\" fill=\"none\" stroke=\"currentColor\"/>\n",
       "    <text dy=\"1.25em\" style=\"font-size: 0.8em; letter-spacing: 1px\">\n",
       "        <textPath xlink:href=\"#arrow-43044764d3ed4d86b2e4e0fc0231eb74-0-12\" class=\"displacy-label\" startOffset=\"50%\" side=\"left\" fill=\"currentColor\" text-anchor=\"middle\">case</textPath>\n",
>>>>>>> 3b08fed2c399f9efc3492fcd331e69df69f00eaf
       "    </text>\n",
       "    <path class=\"displacy-arrowhead\" d=\"M2345,529.0 L2337,517.0 2353,517.0\" fill=\"currentColor\"/>\n",
       "</g>\n",
       "\n",
       "<g class=\"displacy-arrow\">\n",
<<<<<<< HEAD
       "    <path class=\"displacy-arc\" id=\"arrow-681d261ed3db4e7c98424a79229b4df3-0-13\" stroke-width=\"2px\" d=\"M2170,527.0 C2170,352.0 2480.0,352.0 2480.0,527.0\" fill=\"none\" stroke=\"currentColor\"/>\n",
       "    <text dy=\"1.25em\" style=\"font-size: 0.8em; letter-spacing: 1px\">\n",
       "        <textPath xlink:href=\"#arrow-681d261ed3db4e7c98424a79229b4df3-0-13\" class=\"displacy-label\" startOffset=\"50%\" side=\"left\" fill=\"currentColor\" text-anchor=\"middle\">nmod</textPath>\n",
=======
       "    <path class=\"displacy-arc\" id=\"arrow-43044764d3ed4d86b2e4e0fc0231eb74-0-13\" stroke-width=\"2px\" d=\"M2170,527.0 C2170,352.0 2480.0,352.0 2480.0,527.0\" fill=\"none\" stroke=\"currentColor\"/>\n",
       "    <text dy=\"1.25em\" style=\"font-size: 0.8em; letter-spacing: 1px\">\n",
       "        <textPath xlink:href=\"#arrow-43044764d3ed4d86b2e4e0fc0231eb74-0-13\" class=\"displacy-label\" startOffset=\"50%\" side=\"left\" fill=\"currentColor\" text-anchor=\"middle\">nmod</textPath>\n",
>>>>>>> 3b08fed2c399f9efc3492fcd331e69df69f00eaf
       "    </text>\n",
       "    <path class=\"displacy-arrowhead\" d=\"M2480.0,529.0 L2488.0,517.0 2472.0,517.0\" fill=\"currentColor\"/>\n",
       "</g>\n",
       "\n",
       "<g class=\"displacy-arrow\">\n",
<<<<<<< HEAD
       "    <path class=\"displacy-arc\" id=\"arrow-681d261ed3db4e7c98424a79229b4df3-0-14\" stroke-width=\"2px\" d=\"M2520,527.0 C2520,439.5 2650.0,439.5 2650.0,527.0\" fill=\"none\" stroke=\"currentColor\"/>\n",
       "    <text dy=\"1.25em\" style=\"font-size: 0.8em; letter-spacing: 1px\">\n",
       "        <textPath xlink:href=\"#arrow-681d261ed3db4e7c98424a79229b4df3-0-14\" class=\"displacy-label\" startOffset=\"50%\" side=\"left\" fill=\"currentColor\" text-anchor=\"middle\">amod</textPath>\n",
=======
       "    <path class=\"displacy-arc\" id=\"arrow-43044764d3ed4d86b2e4e0fc0231eb74-0-14\" stroke-width=\"2px\" d=\"M2520,527.0 C2520,439.5 2650.0,439.5 2650.0,527.0\" fill=\"none\" stroke=\"currentColor\"/>\n",
       "    <text dy=\"1.25em\" style=\"font-size: 0.8em; letter-spacing: 1px\">\n",
       "        <textPath xlink:href=\"#arrow-43044764d3ed4d86b2e4e0fc0231eb74-0-14\" class=\"displacy-label\" startOffset=\"50%\" side=\"left\" fill=\"currentColor\" text-anchor=\"middle\">amod</textPath>\n",
>>>>>>> 3b08fed2c399f9efc3492fcd331e69df69f00eaf
       "    </text>\n",
       "    <path class=\"displacy-arrowhead\" d=\"M2650.0,529.0 L2658.0,517.0 2642.0,517.0\" fill=\"currentColor\"/>\n",
       "</g>\n",
       "\n",
       "<g class=\"displacy-arrow\">\n",
<<<<<<< HEAD
       "    <path class=\"displacy-arc\" id=\"arrow-681d261ed3db4e7c98424a79229b4df3-0-15\" stroke-width=\"2px\" d=\"M2170,527.0 C2170,177.0 2840.0,177.0 2840.0,527.0\" fill=\"none\" stroke=\"currentColor\"/>\n",
       "    <text dy=\"1.25em\" style=\"font-size: 0.8em; letter-spacing: 1px\">\n",
       "        <textPath xlink:href=\"#arrow-681d261ed3db4e7c98424a79229b4df3-0-15\" class=\"displacy-label\" startOffset=\"50%\" side=\"left\" fill=\"currentColor\" text-anchor=\"middle\">acl</textPath>\n",
=======
       "    <path class=\"displacy-arc\" id=\"arrow-43044764d3ed4d86b2e4e0fc0231eb74-0-15\" stroke-width=\"2px\" d=\"M2170,527.0 C2170,177.0 2840.0,177.0 2840.0,527.0\" fill=\"none\" stroke=\"currentColor\"/>\n",
       "    <text dy=\"1.25em\" style=\"font-size: 0.8em; letter-spacing: 1px\">\n",
       "        <textPath xlink:href=\"#arrow-43044764d3ed4d86b2e4e0fc0231eb74-0-15\" class=\"displacy-label\" startOffset=\"50%\" side=\"left\" fill=\"currentColor\" text-anchor=\"middle\">acl</textPath>\n",
>>>>>>> 3b08fed2c399f9efc3492fcd331e69df69f00eaf
       "    </text>\n",
       "    <path class=\"displacy-arrowhead\" d=\"M2840.0,529.0 L2848.0,517.0 2832.0,517.0\" fill=\"currentColor\"/>\n",
       "</g>\n",
       "\n",
       "<g class=\"displacy-arrow\">\n",
<<<<<<< HEAD
       "    <path class=\"displacy-arc\" id=\"arrow-681d261ed3db4e7c98424a79229b4df3-0-16\" stroke-width=\"2px\" d=\"M3045,527.0 C3045,439.5 3175.0,439.5 3175.0,527.0\" fill=\"none\" stroke=\"currentColor\"/>\n",
       "    <text dy=\"1.25em\" style=\"font-size: 0.8em; letter-spacing: 1px\">\n",
       "        <textPath xlink:href=\"#arrow-681d261ed3db4e7c98424a79229b4df3-0-16\" class=\"displacy-label\" startOffset=\"50%\" side=\"left\" fill=\"currentColor\" text-anchor=\"middle\">det</textPath>\n",
=======
       "    <path class=\"displacy-arc\" id=\"arrow-43044764d3ed4d86b2e4e0fc0231eb74-0-16\" stroke-width=\"2px\" d=\"M3045,527.0 C3045,439.5 3175.0,439.5 3175.0,527.0\" fill=\"none\" stroke=\"currentColor\"/>\n",
       "    <text dy=\"1.25em\" style=\"font-size: 0.8em; letter-spacing: 1px\">\n",
       "        <textPath xlink:href=\"#arrow-43044764d3ed4d86b2e4e0fc0231eb74-0-16\" class=\"displacy-label\" startOffset=\"50%\" side=\"left\" fill=\"currentColor\" text-anchor=\"middle\">det</textPath>\n",
>>>>>>> 3b08fed2c399f9efc3492fcd331e69df69f00eaf
       "    </text>\n",
       "    <path class=\"displacy-arrowhead\" d=\"M3045,529.0 L3037,517.0 3053,517.0\" fill=\"currentColor\"/>\n",
       "</g>\n",
       "\n",
       "<g class=\"displacy-arrow\">\n",
<<<<<<< HEAD
       "    <path class=\"displacy-arc\" id=\"arrow-681d261ed3db4e7c98424a79229b4df3-0-17\" stroke-width=\"2px\" d=\"M2870,527.0 C2870,352.0 3180.0,352.0 3180.0,527.0\" fill=\"none\" stroke=\"currentColor\"/>\n",
       "    <text dy=\"1.25em\" style=\"font-size: 0.8em; letter-spacing: 1px\">\n",
       "        <textPath xlink:href=\"#arrow-681d261ed3db4e7c98424a79229b4df3-0-17\" class=\"displacy-label\" startOffset=\"50%\" side=\"left\" fill=\"currentColor\" text-anchor=\"middle\">obj</textPath>\n",
=======
       "    <path class=\"displacy-arc\" id=\"arrow-43044764d3ed4d86b2e4e0fc0231eb74-0-17\" stroke-width=\"2px\" d=\"M2870,527.0 C2870,352.0 3180.0,352.0 3180.0,527.0\" fill=\"none\" stroke=\"currentColor\"/>\n",
       "    <text dy=\"1.25em\" style=\"font-size: 0.8em; letter-spacing: 1px\">\n",
       "        <textPath xlink:href=\"#arrow-43044764d3ed4d86b2e4e0fc0231eb74-0-17\" class=\"displacy-label\" startOffset=\"50%\" side=\"left\" fill=\"currentColor\" text-anchor=\"middle\">obj</textPath>\n",
>>>>>>> 3b08fed2c399f9efc3492fcd331e69df69f00eaf
       "    </text>\n",
       "    <path class=\"displacy-arrowhead\" d=\"M3180.0,529.0 L3188.0,517.0 3172.0,517.0\" fill=\"currentColor\"/>\n",
       "</g>\n",
       "\n",
       "<g class=\"displacy-arrow\">\n",
<<<<<<< HEAD
       "    <path class=\"displacy-arc\" id=\"arrow-681d261ed3db4e7c98424a79229b4df3-0-18\" stroke-width=\"2px\" d=\"M3220,527.0 C3220,439.5 3350.0,439.5 3350.0,527.0\" fill=\"none\" stroke=\"currentColor\"/>\n",
       "    <text dy=\"1.25em\" style=\"font-size: 0.8em; letter-spacing: 1px\">\n",
       "        <textPath xlink:href=\"#arrow-681d261ed3db4e7c98424a79229b4df3-0-18\" class=\"displacy-label\" startOffset=\"50%\" side=\"left\" fill=\"currentColor\" text-anchor=\"middle\">amod</textPath>\n",
=======
       "    <path class=\"displacy-arc\" id=\"arrow-43044764d3ed4d86b2e4e0fc0231eb74-0-18\" stroke-width=\"2px\" d=\"M3220,527.0 C3220,439.5 3350.0,439.5 3350.0,527.0\" fill=\"none\" stroke=\"currentColor\"/>\n",
       "    <text dy=\"1.25em\" style=\"font-size: 0.8em; letter-spacing: 1px\">\n",
       "        <textPath xlink:href=\"#arrow-43044764d3ed4d86b2e4e0fc0231eb74-0-18\" class=\"displacy-label\" startOffset=\"50%\" side=\"left\" fill=\"currentColor\" text-anchor=\"middle\">amod</textPath>\n",
>>>>>>> 3b08fed2c399f9efc3492fcd331e69df69f00eaf
       "    </text>\n",
       "    <path class=\"displacy-arrowhead\" d=\"M3350.0,529.0 L3358.0,517.0 3342.0,517.0\" fill=\"currentColor\"/>\n",
       "</g>\n",
       "\n",
       "<g class=\"displacy-arrow\">\n",
<<<<<<< HEAD
       "    <path class=\"displacy-arc\" id=\"arrow-681d261ed3db4e7c98424a79229b4df3-0-19\" stroke-width=\"2px\" d=\"M3220,527.0 C3220,352.0 3530.0,352.0 3530.0,527.0\" fill=\"none\" stroke=\"currentColor\"/>\n",
       "    <text dy=\"1.25em\" style=\"font-size: 0.8em; letter-spacing: 1px\">\n",
       "        <textPath xlink:href=\"#arrow-681d261ed3db4e7c98424a79229b4df3-0-19\" class=\"displacy-label\" startOffset=\"50%\" side=\"left\" fill=\"currentColor\" text-anchor=\"middle\">acl</textPath>\n",
=======
       "    <path class=\"displacy-arc\" id=\"arrow-43044764d3ed4d86b2e4e0fc0231eb74-0-19\" stroke-width=\"2px\" d=\"M3220,527.0 C3220,352.0 3530.0,352.0 3530.0,527.0\" fill=\"none\" stroke=\"currentColor\"/>\n",
       "    <text dy=\"1.25em\" style=\"font-size: 0.8em; letter-spacing: 1px\">\n",
       "        <textPath xlink:href=\"#arrow-43044764d3ed4d86b2e4e0fc0231eb74-0-19\" class=\"displacy-label\" startOffset=\"50%\" side=\"left\" fill=\"currentColor\" text-anchor=\"middle\">acl</textPath>\n",
>>>>>>> 3b08fed2c399f9efc3492fcd331e69df69f00eaf
       "    </text>\n",
       "    <path class=\"displacy-arrowhead\" d=\"M3530.0,529.0 L3538.0,517.0 3522.0,517.0\" fill=\"currentColor\"/>\n",
       "</g>\n",
       "\n",
       "<g class=\"displacy-arrow\">\n",
<<<<<<< HEAD
       "    <path class=\"displacy-arc\" id=\"arrow-681d261ed3db4e7c98424a79229b4df3-0-20\" stroke-width=\"2px\" d=\"M3745,527.0 C3745,439.5 3875.0,439.5 3875.0,527.0\" fill=\"none\" stroke=\"currentColor\"/>\n",
       "    <text dy=\"1.25em\" style=\"font-size: 0.8em; letter-spacing: 1px\">\n",
       "        <textPath xlink:href=\"#arrow-681d261ed3db4e7c98424a79229b4df3-0-20\" class=\"displacy-label\" startOffset=\"50%\" side=\"left\" fill=\"currentColor\" text-anchor=\"middle\">case</textPath>\n",
=======
       "    <path class=\"displacy-arc\" id=\"arrow-43044764d3ed4d86b2e4e0fc0231eb74-0-20\" stroke-width=\"2px\" d=\"M3745,527.0 C3745,439.5 3875.0,439.5 3875.0,527.0\" fill=\"none\" stroke=\"currentColor\"/>\n",
       "    <text dy=\"1.25em\" style=\"font-size: 0.8em; letter-spacing: 1px\">\n",
       "        <textPath xlink:href=\"#arrow-43044764d3ed4d86b2e4e0fc0231eb74-0-20\" class=\"displacy-label\" startOffset=\"50%\" side=\"left\" fill=\"currentColor\" text-anchor=\"middle\">case</textPath>\n",
>>>>>>> 3b08fed2c399f9efc3492fcd331e69df69f00eaf
       "    </text>\n",
       "    <path class=\"displacy-arrowhead\" d=\"M3745,529.0 L3737,517.0 3753,517.0\" fill=\"currentColor\"/>\n",
       "</g>\n",
       "\n",
       "<g class=\"displacy-arrow\">\n",
<<<<<<< HEAD
       "    <path class=\"displacy-arc\" id=\"arrow-681d261ed3db4e7c98424a79229b4df3-0-21\" stroke-width=\"2px\" d=\"M3570,527.0 C3570,352.0 3880.0,352.0 3880.0,527.0\" fill=\"none\" stroke=\"currentColor\"/>\n",
       "    <text dy=\"1.25em\" style=\"font-size: 0.8em; letter-spacing: 1px\">\n",
       "        <textPath xlink:href=\"#arrow-681d261ed3db4e7c98424a79229b4df3-0-21\" class=\"displacy-label\" startOffset=\"50%\" side=\"left\" fill=\"currentColor\" text-anchor=\"middle\">obl</textPath>\n",
=======
       "    <path class=\"displacy-arc\" id=\"arrow-43044764d3ed4d86b2e4e0fc0231eb74-0-21\" stroke-width=\"2px\" d=\"M3570,527.0 C3570,352.0 3880.0,352.0 3880.0,527.0\" fill=\"none\" stroke=\"currentColor\"/>\n",
       "    <text dy=\"1.25em\" style=\"font-size: 0.8em; letter-spacing: 1px\">\n",
       "        <textPath xlink:href=\"#arrow-43044764d3ed4d86b2e4e0fc0231eb74-0-21\" class=\"displacy-label\" startOffset=\"50%\" side=\"left\" fill=\"currentColor\" text-anchor=\"middle\">obl</textPath>\n",
>>>>>>> 3b08fed2c399f9efc3492fcd331e69df69f00eaf
       "    </text>\n",
       "    <path class=\"displacy-arrowhead\" d=\"M3880.0,529.0 L3888.0,517.0 3872.0,517.0\" fill=\"currentColor\"/>\n",
       "</g>\n",
       "\n",
       "<g class=\"displacy-arrow\">\n",
<<<<<<< HEAD
       "    <path class=\"displacy-arc\" id=\"arrow-681d261ed3db4e7c98424a79229b4df3-0-22\" stroke-width=\"2px\" d=\"M3920,527.0 C3920,439.5 4050.0,439.5 4050.0,527.0\" fill=\"none\" stroke=\"currentColor\"/>\n",
       "    <text dy=\"1.25em\" style=\"font-size: 0.8em; letter-spacing: 1px\">\n",
       "        <textPath xlink:href=\"#arrow-681d261ed3db4e7c98424a79229b4df3-0-22\" class=\"displacy-label\" startOffset=\"50%\" side=\"left\" fill=\"currentColor\" text-anchor=\"middle\">flat:name</textPath>\n",
=======
       "    <path class=\"displacy-arc\" id=\"arrow-43044764d3ed4d86b2e4e0fc0231eb74-0-22\" stroke-width=\"2px\" d=\"M3920,527.0 C3920,439.5 4050.0,439.5 4050.0,527.0\" fill=\"none\" stroke=\"currentColor\"/>\n",
       "    <text dy=\"1.25em\" style=\"font-size: 0.8em; letter-spacing: 1px\">\n",
       "        <textPath xlink:href=\"#arrow-43044764d3ed4d86b2e4e0fc0231eb74-0-22\" class=\"displacy-label\" startOffset=\"50%\" side=\"left\" fill=\"currentColor\" text-anchor=\"middle\">flat:name</textPath>\n",
>>>>>>> 3b08fed2c399f9efc3492fcd331e69df69f00eaf
       "    </text>\n",
       "    <path class=\"displacy-arrowhead\" d=\"M4050.0,529.0 L4058.0,517.0 4042.0,517.0\" fill=\"currentColor\"/>\n",
       "</g>\n",
       "\n",
       "<g class=\"displacy-arrow\">\n",
<<<<<<< HEAD
       "    <path class=\"displacy-arc\" id=\"arrow-681d261ed3db4e7c98424a79229b4df3-0-23\" stroke-width=\"2px\" d=\"M3920,527.0 C3920,352.0 4230.0,352.0 4230.0,527.0\" fill=\"none\" stroke=\"currentColor\"/>\n",
       "    <text dy=\"1.25em\" style=\"font-size: 0.8em; letter-spacing: 1px\">\n",
       "        <textPath xlink:href=\"#arrow-681d261ed3db4e7c98424a79229b4df3-0-23\" class=\"displacy-label\" startOffset=\"50%\" side=\"left\" fill=\"currentColor\" text-anchor=\"middle\">flat:name</textPath>\n",
=======
       "    <path class=\"displacy-arc\" id=\"arrow-43044764d3ed4d86b2e4e0fc0231eb74-0-23\" stroke-width=\"2px\" d=\"M3920,527.0 C3920,352.0 4230.0,352.0 4230.0,527.0\" fill=\"none\" stroke=\"currentColor\"/>\n",
       "    <text dy=\"1.25em\" style=\"font-size: 0.8em; letter-spacing: 1px\">\n",
       "        <textPath xlink:href=\"#arrow-43044764d3ed4d86b2e4e0fc0231eb74-0-23\" class=\"displacy-label\" startOffset=\"50%\" side=\"left\" fill=\"currentColor\" text-anchor=\"middle\">flat:name</textPath>\n",
>>>>>>> 3b08fed2c399f9efc3492fcd331e69df69f00eaf
       "    </text>\n",
       "    <path class=\"displacy-arrowhead\" d=\"M4230.0,529.0 L4238.0,517.0 4222.0,517.0\" fill=\"currentColor\"/>\n",
       "</g>\n",
       "\n",
       "<g class=\"displacy-arrow\">\n",
<<<<<<< HEAD
       "    <path class=\"displacy-arc\" id=\"arrow-681d261ed3db4e7c98424a79229b4df3-0-24\" stroke-width=\"2px\" d=\"M4445,527.0 C4445,439.5 4575.0,439.5 4575.0,527.0\" fill=\"none\" stroke=\"currentColor\"/>\n",
       "    <text dy=\"1.25em\" style=\"font-size: 0.8em; letter-spacing: 1px\">\n",
       "        <textPath xlink:href=\"#arrow-681d261ed3db4e7c98424a79229b4df3-0-24\" class=\"displacy-label\" startOffset=\"50%\" side=\"left\" fill=\"currentColor\" text-anchor=\"middle\">det</textPath>\n",
=======
       "    <path class=\"displacy-arc\" id=\"arrow-43044764d3ed4d86b2e4e0fc0231eb74-0-24\" stroke-width=\"2px\" d=\"M4445,527.0 C4445,439.5 4575.0,439.5 4575.0,527.0\" fill=\"none\" stroke=\"currentColor\"/>\n",
       "    <text dy=\"1.25em\" style=\"font-size: 0.8em; letter-spacing: 1px\">\n",
       "        <textPath xlink:href=\"#arrow-43044764d3ed4d86b2e4e0fc0231eb74-0-24\" class=\"displacy-label\" startOffset=\"50%\" side=\"left\" fill=\"currentColor\" text-anchor=\"middle\">det</textPath>\n",
>>>>>>> 3b08fed2c399f9efc3492fcd331e69df69f00eaf
       "    </text>\n",
       "    <path class=\"displacy-arrowhead\" d=\"M4445,529.0 L4437,517.0 4453,517.0\" fill=\"currentColor\"/>\n",
       "</g>\n",
       "\n",
       "<g class=\"displacy-arrow\">\n",
<<<<<<< HEAD
       "    <path class=\"displacy-arc\" id=\"arrow-681d261ed3db4e7c98424a79229b4df3-0-25\" stroke-width=\"2px\" d=\"M4620,527.0 C4620,352.0 4930.0,352.0 4930.0,527.0\" fill=\"none\" stroke=\"currentColor\"/>\n",
       "    <text dy=\"1.25em\" style=\"font-size: 0.8em; letter-spacing: 1px\">\n",
       "        <textPath xlink:href=\"#arrow-681d261ed3db4e7c98424a79229b4df3-0-25\" class=\"displacy-label\" startOffset=\"50%\" side=\"left\" fill=\"currentColor\" text-anchor=\"middle\">nsubj:pass</textPath>\n",
=======
       "    <path class=\"displacy-arc\" id=\"arrow-43044764d3ed4d86b2e4e0fc0231eb74-0-25\" stroke-width=\"2px\" d=\"M4620,527.0 C4620,352.0 4930.0,352.0 4930.0,527.0\" fill=\"none\" stroke=\"currentColor\"/>\n",
       "    <text dy=\"1.25em\" style=\"font-size: 0.8em; letter-spacing: 1px\">\n",
       "        <textPath xlink:href=\"#arrow-43044764d3ed4d86b2e4e0fc0231eb74-0-25\" class=\"displacy-label\" startOffset=\"50%\" side=\"left\" fill=\"currentColor\" text-anchor=\"middle\">nsubj:pass</textPath>\n",
>>>>>>> 3b08fed2c399f9efc3492fcd331e69df69f00eaf
       "    </text>\n",
       "    <path class=\"displacy-arrowhead\" d=\"M4620,529.0 L4612,517.0 4628,517.0\" fill=\"currentColor\"/>\n",
       "</g>\n",
       "\n",
       "<g class=\"displacy-arrow\">\n",
<<<<<<< HEAD
       "    <path class=\"displacy-arc\" id=\"arrow-681d261ed3db4e7c98424a79229b4df3-0-26\" stroke-width=\"2px\" d=\"M4795,527.0 C4795,439.5 4925.0,439.5 4925.0,527.0\" fill=\"none\" stroke=\"currentColor\"/>\n",
       "    <text dy=\"1.25em\" style=\"font-size: 0.8em; letter-spacing: 1px\">\n",
       "        <textPath xlink:href=\"#arrow-681d261ed3db4e7c98424a79229b4df3-0-26\" class=\"displacy-label\" startOffset=\"50%\" side=\"left\" fill=\"currentColor\" text-anchor=\"middle\">aux:pass</textPath>\n",
=======
       "    <path class=\"displacy-arc\" id=\"arrow-43044764d3ed4d86b2e4e0fc0231eb74-0-26\" stroke-width=\"2px\" d=\"M4795,527.0 C4795,439.5 4925.0,439.5 4925.0,527.0\" fill=\"none\" stroke=\"currentColor\"/>\n",
       "    <text dy=\"1.25em\" style=\"font-size: 0.8em; letter-spacing: 1px\">\n",
       "        <textPath xlink:href=\"#arrow-43044764d3ed4d86b2e4e0fc0231eb74-0-26\" class=\"displacy-label\" startOffset=\"50%\" side=\"left\" fill=\"currentColor\" text-anchor=\"middle\">aux:pass</textPath>\n",
>>>>>>> 3b08fed2c399f9efc3492fcd331e69df69f00eaf
       "    </text>\n",
       "    <path class=\"displacy-arrowhead\" d=\"M4795,529.0 L4787,517.0 4803,517.0\" fill=\"currentColor\"/>\n",
       "</g>\n",
       "\n",
       "<g class=\"displacy-arrow\">\n",
<<<<<<< HEAD
       "    <path class=\"displacy-arc\" id=\"arrow-681d261ed3db4e7c98424a79229b4df3-0-27\" stroke-width=\"2px\" d=\"M5145,527.0 C5145,352.0 5455.0,352.0 5455.0,527.0\" fill=\"none\" stroke=\"currentColor\"/>\n",
       "    <text dy=\"1.25em\" style=\"font-size: 0.8em; letter-spacing: 1px\">\n",
       "        <textPath xlink:href=\"#arrow-681d261ed3db4e7c98424a79229b4df3-0-27\" class=\"displacy-label\" startOffset=\"50%\" side=\"left\" fill=\"currentColor\" text-anchor=\"middle\">case</textPath>\n",
=======
       "    <path class=\"displacy-arc\" id=\"arrow-43044764d3ed4d86b2e4e0fc0231eb74-0-27\" stroke-width=\"2px\" d=\"M5145,527.0 C5145,352.0 5455.0,352.0 5455.0,527.0\" fill=\"none\" stroke=\"currentColor\"/>\n",
       "    <text dy=\"1.25em\" style=\"font-size: 0.8em; letter-spacing: 1px\">\n",
       "        <textPath xlink:href=\"#arrow-43044764d3ed4d86b2e4e0fc0231eb74-0-27\" class=\"displacy-label\" startOffset=\"50%\" side=\"left\" fill=\"currentColor\" text-anchor=\"middle\">case</textPath>\n",
>>>>>>> 3b08fed2c399f9efc3492fcd331e69df69f00eaf
       "    </text>\n",
       "    <path class=\"displacy-arrowhead\" d=\"M5145,529.0 L5137,517.0 5153,517.0\" fill=\"currentColor\"/>\n",
       "</g>\n",
       "\n",
       "<g class=\"displacy-arrow\">\n",
<<<<<<< HEAD
       "    <path class=\"displacy-arc\" id=\"arrow-681d261ed3db4e7c98424a79229b4df3-0-28\" stroke-width=\"2px\" d=\"M5320,527.0 C5320,439.5 5450.0,439.5 5450.0,527.0\" fill=\"none\" stroke=\"currentColor\"/>\n",
       "    <text dy=\"1.25em\" style=\"font-size: 0.8em; letter-spacing: 1px\">\n",
       "        <textPath xlink:href=\"#arrow-681d261ed3db4e7c98424a79229b4df3-0-28\" class=\"displacy-label\" startOffset=\"50%\" side=\"left\" fill=\"currentColor\" text-anchor=\"middle\">det</textPath>\n",
=======
       "    <path class=\"displacy-arc\" id=\"arrow-43044764d3ed4d86b2e4e0fc0231eb74-0-28\" stroke-width=\"2px\" d=\"M5320,527.0 C5320,439.5 5450.0,439.5 5450.0,527.0\" fill=\"none\" stroke=\"currentColor\"/>\n",
       "    <text dy=\"1.25em\" style=\"font-size: 0.8em; letter-spacing: 1px\">\n",
       "        <textPath xlink:href=\"#arrow-43044764d3ed4d86b2e4e0fc0231eb74-0-28\" class=\"displacy-label\" startOffset=\"50%\" side=\"left\" fill=\"currentColor\" text-anchor=\"middle\">det</textPath>\n",
>>>>>>> 3b08fed2c399f9efc3492fcd331e69df69f00eaf
       "    </text>\n",
       "    <path class=\"displacy-arrowhead\" d=\"M5320,529.0 L5312,517.0 5328,517.0\" fill=\"currentColor\"/>\n",
       "</g>\n",
       "\n",
       "<g class=\"displacy-arrow\">\n",
<<<<<<< HEAD
       "    <path class=\"displacy-arc\" id=\"arrow-681d261ed3db4e7c98424a79229b4df3-0-29\" stroke-width=\"2px\" d=\"M4970,527.0 C4970,264.5 5460.0,264.5 5460.0,527.0\" fill=\"none\" stroke=\"currentColor\"/>\n",
       "    <text dy=\"1.25em\" style=\"font-size: 0.8em; letter-spacing: 1px\">\n",
       "        <textPath xlink:href=\"#arrow-681d261ed3db4e7c98424a79229b4df3-0-29\" class=\"displacy-label\" startOffset=\"50%\" side=\"left\" fill=\"currentColor\" text-anchor=\"middle\">obl</textPath>\n",
=======
       "    <path class=\"displacy-arc\" id=\"arrow-43044764d3ed4d86b2e4e0fc0231eb74-0-29\" stroke-width=\"2px\" d=\"M4970,527.0 C4970,264.5 5460.0,264.5 5460.0,527.0\" fill=\"none\" stroke=\"currentColor\"/>\n",
       "    <text dy=\"1.25em\" style=\"font-size: 0.8em; letter-spacing: 1px\">\n",
       "        <textPath xlink:href=\"#arrow-43044764d3ed4d86b2e4e0fc0231eb74-0-29\" class=\"displacy-label\" startOffset=\"50%\" side=\"left\" fill=\"currentColor\" text-anchor=\"middle\">obl</textPath>\n",
>>>>>>> 3b08fed2c399f9efc3492fcd331e69df69f00eaf
       "    </text>\n",
       "    <path class=\"displacy-arrowhead\" d=\"M5460.0,529.0 L5468.0,517.0 5452.0,517.0\" fill=\"currentColor\"/>\n",
       "</g>\n",
       "\n",
       "<g class=\"displacy-arrow\">\n",
<<<<<<< HEAD
       "    <path class=\"displacy-arc\" id=\"arrow-681d261ed3db4e7c98424a79229b4df3-0-30\" stroke-width=\"2px\" d=\"M4970,527.0 C4970,177.0 5640.0,177.0 5640.0,527.0\" fill=\"none\" stroke=\"currentColor\"/>\n",
       "    <text dy=\"1.25em\" style=\"font-size: 0.8em; letter-spacing: 1px\">\n",
       "        <textPath xlink:href=\"#arrow-681d261ed3db4e7c98424a79229b4df3-0-30\" class=\"displacy-label\" startOffset=\"50%\" side=\"left\" fill=\"currentColor\" text-anchor=\"middle\">nummod</textPath>\n",
=======
       "    <path class=\"displacy-arc\" id=\"arrow-43044764d3ed4d86b2e4e0fc0231eb74-0-30\" stroke-width=\"2px\" d=\"M4970,527.0 C4970,177.0 5640.0,177.0 5640.0,527.0\" fill=\"none\" stroke=\"currentColor\"/>\n",
       "    <text dy=\"1.25em\" style=\"font-size: 0.8em; letter-spacing: 1px\">\n",
       "        <textPath xlink:href=\"#arrow-43044764d3ed4d86b2e4e0fc0231eb74-0-30\" class=\"displacy-label\" startOffset=\"50%\" side=\"left\" fill=\"currentColor\" text-anchor=\"middle\">nummod</textPath>\n",
>>>>>>> 3b08fed2c399f9efc3492fcd331e69df69f00eaf
       "    </text>\n",
       "    <path class=\"displacy-arrowhead\" d=\"M5640.0,529.0 L5648.0,517.0 5632.0,517.0\" fill=\"currentColor\"/>\n",
       "</g>\n",
       "\n",
       "<g class=\"displacy-arrow\">\n",
<<<<<<< HEAD
       "    <path class=\"displacy-arc\" id=\"arrow-681d261ed3db4e7c98424a79229b4df3-0-31\" stroke-width=\"2px\" d=\"M4970,527.0 C4970,89.5 5820.0,89.5 5820.0,527.0\" fill=\"none\" stroke=\"currentColor\"/>\n",
       "    <text dy=\"1.25em\" style=\"font-size: 0.8em; letter-spacing: 1px\">\n",
       "        <textPath xlink:href=\"#arrow-681d261ed3db4e7c98424a79229b4df3-0-31\" class=\"displacy-label\" startOffset=\"50%\" side=\"left\" fill=\"currentColor\" text-anchor=\"middle\">obl</textPath>\n",
=======
       "    <path class=\"displacy-arc\" id=\"arrow-43044764d3ed4d86b2e4e0fc0231eb74-0-31\" stroke-width=\"2px\" d=\"M4970,527.0 C4970,89.5 5820.0,89.5 5820.0,527.0\" fill=\"none\" stroke=\"currentColor\"/>\n",
       "    <text dy=\"1.25em\" style=\"font-size: 0.8em; letter-spacing: 1px\">\n",
       "        <textPath xlink:href=\"#arrow-43044764d3ed4d86b2e4e0fc0231eb74-0-31\" class=\"displacy-label\" startOffset=\"50%\" side=\"left\" fill=\"currentColor\" text-anchor=\"middle\">obl</textPath>\n",
>>>>>>> 3b08fed2c399f9efc3492fcd331e69df69f00eaf
       "    </text>\n",
       "    <path class=\"displacy-arrowhead\" d=\"M5820.0,529.0 L5828.0,517.0 5812.0,517.0\" fill=\"currentColor\"/>\n",
       "</g>\n",
       "\n",
       "<g class=\"displacy-arrow\">\n",
<<<<<<< HEAD
       "    <path class=\"displacy-arc\" id=\"arrow-681d261ed3db4e7c98424a79229b4df3-0-32\" stroke-width=\"2px\" d=\"M5845,527.0 C5845,439.5 5975.0,439.5 5975.0,527.0\" fill=\"none\" stroke=\"currentColor\"/>\n",
       "    <text dy=\"1.25em\" style=\"font-size: 0.8em; letter-spacing: 1px\">\n",
       "        <textPath xlink:href=\"#arrow-681d261ed3db4e7c98424a79229b4df3-0-32\" class=\"displacy-label\" startOffset=\"50%\" side=\"left\" fill=\"currentColor\" text-anchor=\"middle\">flat:name</textPath>\n",
=======
       "    <path class=\"displacy-arc\" id=\"arrow-43044764d3ed4d86b2e4e0fc0231eb74-0-32\" stroke-width=\"2px\" d=\"M5845,527.0 C5845,439.5 5975.0,439.5 5975.0,527.0\" fill=\"none\" stroke=\"currentColor\"/>\n",
       "    <text dy=\"1.25em\" style=\"font-size: 0.8em; letter-spacing: 1px\">\n",
       "        <textPath xlink:href=\"#arrow-43044764d3ed4d86b2e4e0fc0231eb74-0-32\" class=\"displacy-label\" startOffset=\"50%\" side=\"left\" fill=\"currentColor\" text-anchor=\"middle\">flat:name</textPath>\n",
>>>>>>> 3b08fed2c399f9efc3492fcd331e69df69f00eaf
       "    </text>\n",
       "    <path class=\"displacy-arrowhead\" d=\"M5975.0,529.0 L5983.0,517.0 5967.0,517.0\" fill=\"currentColor\"/>\n",
       "</g>\n",
       "\n",
       "<g class=\"displacy-arrow\">\n",
<<<<<<< HEAD
       "    <path class=\"displacy-arc\" id=\"arrow-681d261ed3db4e7c98424a79229b4df3-0-33\" stroke-width=\"2px\" d=\"M4970,527.0 C4970,2.0 6175.0,2.0 6175.0,527.0\" fill=\"none\" stroke=\"currentColor\"/>\n",
       "    <text dy=\"1.25em\" style=\"font-size: 0.8em; letter-spacing: 1px\">\n",
       "        <textPath xlink:href=\"#arrow-681d261ed3db4e7c98424a79229b4df3-0-33\" class=\"displacy-label\" startOffset=\"50%\" side=\"left\" fill=\"currentColor\" text-anchor=\"middle\">conj</textPath>\n",
=======
       "    <path class=\"displacy-arc\" id=\"arrow-43044764d3ed4d86b2e4e0fc0231eb74-0-33\" stroke-width=\"2px\" d=\"M4970,527.0 C4970,2.0 6175.0,2.0 6175.0,527.0\" fill=\"none\" stroke=\"currentColor\"/>\n",
       "    <text dy=\"1.25em\" style=\"font-size: 0.8em; letter-spacing: 1px\">\n",
       "        <textPath xlink:href=\"#arrow-43044764d3ed4d86b2e4e0fc0231eb74-0-33\" class=\"displacy-label\" startOffset=\"50%\" side=\"left\" fill=\"currentColor\" text-anchor=\"middle\">conj</textPath>\n",
>>>>>>> 3b08fed2c399f9efc3492fcd331e69df69f00eaf
       "    </text>\n",
       "    <path class=\"displacy-arrowhead\" d=\"M6175.0,529.0 L6183.0,517.0 6167.0,517.0\" fill=\"currentColor\"/>\n",
       "</g>\n",
       "\n",
       "<g class=\"displacy-arrow\">\n",
<<<<<<< HEAD
       "    <path class=\"displacy-arc\" id=\"arrow-681d261ed3db4e7c98424a79229b4df3-0-34\" stroke-width=\"2px\" d=\"M6195,527.0 C6195,439.5 6325.0,439.5 6325.0,527.0\" fill=\"none\" stroke=\"currentColor\"/>\n",
       "    <text dy=\"1.25em\" style=\"font-size: 0.8em; letter-spacing: 1px\">\n",
       "        <textPath xlink:href=\"#arrow-681d261ed3db4e7c98424a79229b4df3-0-34\" class=\"displacy-label\" startOffset=\"50%\" side=\"left\" fill=\"currentColor\" text-anchor=\"middle\">conj</textPath>\n",
=======
       "    <path class=\"displacy-arc\" id=\"arrow-43044764d3ed4d86b2e4e0fc0231eb74-0-34\" stroke-width=\"2px\" d=\"M6195,527.0 C6195,439.5 6325.0,439.5 6325.0,527.0\" fill=\"none\" stroke=\"currentColor\"/>\n",
       "    <text dy=\"1.25em\" style=\"font-size: 0.8em; letter-spacing: 1px\">\n",
       "        <textPath xlink:href=\"#arrow-43044764d3ed4d86b2e4e0fc0231eb74-0-34\" class=\"displacy-label\" startOffset=\"50%\" side=\"left\" fill=\"currentColor\" text-anchor=\"middle\">conj</textPath>\n",
>>>>>>> 3b08fed2c399f9efc3492fcd331e69df69f00eaf
       "    </text>\n",
       "    <path class=\"displacy-arrowhead\" d=\"M6325.0,529.0 L6333.0,517.0 6317.0,517.0\" fill=\"currentColor\"/>\n",
       "</g>\n",
       "\n",
       "<g class=\"displacy-arrow\">\n",
<<<<<<< HEAD
       "    <path class=\"displacy-arc\" id=\"arrow-681d261ed3db4e7c98424a79229b4df3-0-35\" stroke-width=\"2px\" d=\"M6545,527.0 C6545,439.5 6675.0,439.5 6675.0,527.0\" fill=\"none\" stroke=\"currentColor\"/>\n",
       "    <text dy=\"1.25em\" style=\"font-size: 0.8em; letter-spacing: 1px\">\n",
       "        <textPath xlink:href=\"#arrow-681d261ed3db4e7c98424a79229b4df3-0-35\" class=\"displacy-label\" startOffset=\"50%\" side=\"left\" fill=\"currentColor\" text-anchor=\"middle\">nmod:poss</textPath>\n",
=======
       "    <path class=\"displacy-arc\" id=\"arrow-43044764d3ed4d86b2e4e0fc0231eb74-0-35\" stroke-width=\"2px\" d=\"M6545,527.0 C6545,439.5 6675.0,439.5 6675.0,527.0\" fill=\"none\" stroke=\"currentColor\"/>\n",
       "    <text dy=\"1.25em\" style=\"font-size: 0.8em; letter-spacing: 1px\">\n",
       "        <textPath xlink:href=\"#arrow-43044764d3ed4d86b2e4e0fc0231eb74-0-35\" class=\"displacy-label\" startOffset=\"50%\" side=\"left\" fill=\"currentColor\" text-anchor=\"middle\">nmod:poss</textPath>\n",
>>>>>>> 3b08fed2c399f9efc3492fcd331e69df69f00eaf
       "    </text>\n",
       "    <path class=\"displacy-arrowhead\" d=\"M6545,529.0 L6537,517.0 6553,517.0\" fill=\"currentColor\"/>\n",
       "</g>\n",
       "\n",
       "<g class=\"displacy-arrow\">\n",
<<<<<<< HEAD
       "    <path class=\"displacy-arc\" id=\"arrow-681d261ed3db4e7c98424a79229b4df3-0-36\" stroke-width=\"2px\" d=\"M6895,527.0 C6895,439.5 7025.0,439.5 7025.0,527.0\" fill=\"none\" stroke=\"currentColor\"/>\n",
       "    <text dy=\"1.25em\" style=\"font-size: 0.8em; letter-spacing: 1px\">\n",
       "        <textPath xlink:href=\"#arrow-681d261ed3db4e7c98424a79229b4df3-0-36\" class=\"displacy-label\" startOffset=\"50%\" side=\"left\" fill=\"currentColor\" text-anchor=\"middle\">case</textPath>\n",
=======
       "    <path class=\"displacy-arc\" id=\"arrow-43044764d3ed4d86b2e4e0fc0231eb74-0-36\" stroke-width=\"2px\" d=\"M6895,527.0 C6895,439.5 7025.0,439.5 7025.0,527.0\" fill=\"none\" stroke=\"currentColor\"/>\n",
       "    <text dy=\"1.25em\" style=\"font-size: 0.8em; letter-spacing: 1px\">\n",
       "        <textPath xlink:href=\"#arrow-43044764d3ed4d86b2e4e0fc0231eb74-0-36\" class=\"displacy-label\" startOffset=\"50%\" side=\"left\" fill=\"currentColor\" text-anchor=\"middle\">case</textPath>\n",
>>>>>>> 3b08fed2c399f9efc3492fcd331e69df69f00eaf
       "    </text>\n",
       "    <path class=\"displacy-arrowhead\" d=\"M6895,529.0 L6887,517.0 6903,517.0\" fill=\"currentColor\"/>\n",
       "</g>\n",
       "\n",
       "<g class=\"displacy-arrow\">\n",
<<<<<<< HEAD
       "    <path class=\"displacy-arc\" id=\"arrow-681d261ed3db4e7c98424a79229b4df3-0-37\" stroke-width=\"2px\" d=\"M6720,527.0 C6720,352.0 7030.0,352.0 7030.0,527.0\" fill=\"none\" stroke=\"currentColor\"/>\n",
       "    <text dy=\"1.25em\" style=\"font-size: 0.8em; letter-spacing: 1px\">\n",
       "        <textPath xlink:href=\"#arrow-681d261ed3db4e7c98424a79229b4df3-0-37\" class=\"displacy-label\" startOffset=\"50%\" side=\"left\" fill=\"currentColor\" text-anchor=\"middle\">nmod</textPath>\n",
=======
       "    <path class=\"displacy-arc\" id=\"arrow-43044764d3ed4d86b2e4e0fc0231eb74-0-37\" stroke-width=\"2px\" d=\"M6720,527.0 C6720,352.0 7030.0,352.0 7030.0,527.0\" fill=\"none\" stroke=\"currentColor\"/>\n",
       "    <text dy=\"1.25em\" style=\"font-size: 0.8em; letter-spacing: 1px\">\n",
       "        <textPath xlink:href=\"#arrow-43044764d3ed4d86b2e4e0fc0231eb74-0-37\" class=\"displacy-label\" startOffset=\"50%\" side=\"left\" fill=\"currentColor\" text-anchor=\"middle\">nmod</textPath>\n",
>>>>>>> 3b08fed2c399f9efc3492fcd331e69df69f00eaf
       "    </text>\n",
       "    <path class=\"displacy-arrowhead\" d=\"M7030.0,529.0 L7038.0,517.0 7022.0,517.0\" fill=\"currentColor\"/>\n",
       "</g>\n",
       "\n",
       "<g class=\"displacy-arrow\">\n",
<<<<<<< HEAD
       "    <path class=\"displacy-arc\" id=\"arrow-681d261ed3db4e7c98424a79229b4df3-0-38\" stroke-width=\"2px\" d=\"M7070,527.0 C7070,439.5 7200.0,439.5 7200.0,527.0\" fill=\"none\" stroke=\"currentColor\"/>\n",
       "    <text dy=\"1.25em\" style=\"font-size: 0.8em; letter-spacing: 1px\">\n",
       "        <textPath xlink:href=\"#arrow-681d261ed3db4e7c98424a79229b4df3-0-38\" class=\"displacy-label\" startOffset=\"50%\" side=\"left\" fill=\"currentColor\" text-anchor=\"middle\">flat:name</textPath>\n",
=======
       "    <path class=\"displacy-arc\" id=\"arrow-43044764d3ed4d86b2e4e0fc0231eb74-0-38\" stroke-width=\"2px\" d=\"M7070,527.0 C7070,439.5 7200.0,439.5 7200.0,527.0\" fill=\"none\" stroke=\"currentColor\"/>\n",
       "    <text dy=\"1.25em\" style=\"font-size: 0.8em; letter-spacing: 1px\">\n",
       "        <textPath xlink:href=\"#arrow-43044764d3ed4d86b2e4e0fc0231eb74-0-38\" class=\"displacy-label\" startOffset=\"50%\" side=\"left\" fill=\"currentColor\" text-anchor=\"middle\">flat:name</textPath>\n",
>>>>>>> 3b08fed2c399f9efc3492fcd331e69df69f00eaf
       "    </text>\n",
       "    <path class=\"displacy-arrowhead\" d=\"M7200.0,529.0 L7208.0,517.0 7192.0,517.0\" fill=\"currentColor\"/>\n",
       "</g>\n",
       "\n",
       "<g class=\"displacy-arrow\">\n",
<<<<<<< HEAD
       "    <path class=\"displacy-arc\" id=\"arrow-681d261ed3db4e7c98424a79229b4df3-0-39\" stroke-width=\"2px\" d=\"M6720,527.0 C6720,177.0 7390.0,177.0 7390.0,527.0\" fill=\"none\" stroke=\"currentColor\"/>\n",
       "    <text dy=\"1.25em\" style=\"font-size: 0.8em; letter-spacing: 1px\">\n",
       "        <textPath xlink:href=\"#arrow-681d261ed3db4e7c98424a79229b4df3-0-39\" class=\"displacy-label\" startOffset=\"50%\" side=\"left\" fill=\"currentColor\" text-anchor=\"middle\">appos</textPath>\n",
=======
       "    <path class=\"displacy-arc\" id=\"arrow-43044764d3ed4d86b2e4e0fc0231eb74-0-39\" stroke-width=\"2px\" d=\"M6720,527.0 C6720,177.0 7390.0,177.0 7390.0,527.0\" fill=\"none\" stroke=\"currentColor\"/>\n",
       "    <text dy=\"1.25em\" style=\"font-size: 0.8em; letter-spacing: 1px\">\n",
       "        <textPath xlink:href=\"#arrow-43044764d3ed4d86b2e4e0fc0231eb74-0-39\" class=\"displacy-label\" startOffset=\"50%\" side=\"left\" fill=\"currentColor\" text-anchor=\"middle\">appos</textPath>\n",
>>>>>>> 3b08fed2c399f9efc3492fcd331e69df69f00eaf
       "    </text>\n",
       "    <path class=\"displacy-arrowhead\" d=\"M7390.0,529.0 L7398.0,517.0 7382.0,517.0\" fill=\"currentColor\"/>\n",
       "</g>\n",
       "\n",
       "<g class=\"displacy-arrow\">\n",
<<<<<<< HEAD
       "    <path class=\"displacy-arc\" id=\"arrow-681d261ed3db4e7c98424a79229b4df3-0-40\" stroke-width=\"2px\" d=\"M7595,527.0 C7595,439.5 7725.0,439.5 7725.0,527.0\" fill=\"none\" stroke=\"currentColor\"/>\n",
       "    <text dy=\"1.25em\" style=\"font-size: 0.8em; letter-spacing: 1px\">\n",
       "        <textPath xlink:href=\"#arrow-681d261ed3db4e7c98424a79229b4df3-0-40\" class=\"displacy-label\" startOffset=\"50%\" side=\"left\" fill=\"currentColor\" text-anchor=\"middle\">cc</textPath>\n",
=======
       "    <path class=\"displacy-arc\" id=\"arrow-43044764d3ed4d86b2e4e0fc0231eb74-0-40\" stroke-width=\"2px\" d=\"M7595,527.0 C7595,439.5 7725.0,439.5 7725.0,527.0\" fill=\"none\" stroke=\"currentColor\"/>\n",
       "    <text dy=\"1.25em\" style=\"font-size: 0.8em; letter-spacing: 1px\">\n",
       "        <textPath xlink:href=\"#arrow-43044764d3ed4d86b2e4e0fc0231eb74-0-40\" class=\"displacy-label\" startOffset=\"50%\" side=\"left\" fill=\"currentColor\" text-anchor=\"middle\">cc</textPath>\n",
>>>>>>> 3b08fed2c399f9efc3492fcd331e69df69f00eaf
       "    </text>\n",
       "    <path class=\"displacy-arrowhead\" d=\"M7595,529.0 L7587,517.0 7603,517.0\" fill=\"currentColor\"/>\n",
       "</g>\n",
       "\n",
       "<g class=\"displacy-arrow\">\n",
<<<<<<< HEAD
       "    <path class=\"displacy-arc\" id=\"arrow-681d261ed3db4e7c98424a79229b4df3-0-41\" stroke-width=\"2px\" d=\"M7420,527.0 C7420,352.0 7730.0,352.0 7730.0,527.0\" fill=\"none\" stroke=\"currentColor\"/>\n",
       "    <text dy=\"1.25em\" style=\"font-size: 0.8em; letter-spacing: 1px\">\n",
       "        <textPath xlink:href=\"#arrow-681d261ed3db4e7c98424a79229b4df3-0-41\" class=\"displacy-label\" startOffset=\"50%\" side=\"left\" fill=\"currentColor\" text-anchor=\"middle\">conj</textPath>\n",
=======
       "    <path class=\"displacy-arc\" id=\"arrow-43044764d3ed4d86b2e4e0fc0231eb74-0-41\" stroke-width=\"2px\" d=\"M7420,527.0 C7420,352.0 7730.0,352.0 7730.0,527.0\" fill=\"none\" stroke=\"currentColor\"/>\n",
       "    <text dy=\"1.25em\" style=\"font-size: 0.8em; letter-spacing: 1px\">\n",
       "        <textPath xlink:href=\"#arrow-43044764d3ed4d86b2e4e0fc0231eb74-0-41\" class=\"displacy-label\" startOffset=\"50%\" side=\"left\" fill=\"currentColor\" text-anchor=\"middle\">conj</textPath>\n",
>>>>>>> 3b08fed2c399f9efc3492fcd331e69df69f00eaf
       "    </text>\n",
       "    <path class=\"displacy-arrowhead\" d=\"M7730.0,529.0 L7738.0,517.0 7722.0,517.0\" fill=\"currentColor\"/>\n",
       "</g>\n",
       "\n",
       "<g class=\"displacy-arrow\">\n",
<<<<<<< HEAD
       "    <path class=\"displacy-arc\" id=\"arrow-681d261ed3db4e7c98424a79229b4df3-0-42\" stroke-width=\"2px\" d=\"M6720,527.0 C6720,2.0 7925.0,2.0 7925.0,527.0\" fill=\"none\" stroke=\"currentColor\"/>\n",
       "    <text dy=\"1.25em\" style=\"font-size: 0.8em; letter-spacing: 1px\">\n",
       "        <textPath xlink:href=\"#arrow-681d261ed3db4e7c98424a79229b4df3-0-42\" class=\"displacy-label\" startOffset=\"50%\" side=\"left\" fill=\"currentColor\" text-anchor=\"middle\">nummod</textPath>\n",
=======
       "    <path class=\"displacy-arc\" id=\"arrow-43044764d3ed4d86b2e4e0fc0231eb74-0-42\" stroke-width=\"2px\" d=\"M6720,527.0 C6720,2.0 7925.0,2.0 7925.0,527.0\" fill=\"none\" stroke=\"currentColor\"/>\n",
       "    <text dy=\"1.25em\" style=\"font-size: 0.8em; letter-spacing: 1px\">\n",
       "        <textPath xlink:href=\"#arrow-43044764d3ed4d86b2e4e0fc0231eb74-0-42\" class=\"displacy-label\" startOffset=\"50%\" side=\"left\" fill=\"currentColor\" text-anchor=\"middle\">nummod</textPath>\n",
>>>>>>> 3b08fed2c399f9efc3492fcd331e69df69f00eaf
       "    </text>\n",
       "    <path class=\"displacy-arrowhead\" d=\"M7925.0,529.0 L7933.0,517.0 7917.0,517.0\" fill=\"currentColor\"/>\n",
       "</g>\n",
       "\n",
       "<g class=\"displacy-arrow\">\n",
<<<<<<< HEAD
       "    <path class=\"displacy-arc\" id=\"arrow-681d261ed3db4e7c98424a79229b4df3-0-43\" stroke-width=\"2px\" d=\"M8120,527.0 C8120,439.5 8250.0,439.5 8250.0,527.0\" fill=\"none\" stroke=\"currentColor\"/>\n",
       "    <text dy=\"1.25em\" style=\"font-size: 0.8em; letter-spacing: 1px\">\n",
       "        <textPath xlink:href=\"#arrow-681d261ed3db4e7c98424a79229b4df3-0-43\" class=\"displacy-label\" startOffset=\"50%\" side=\"left\" fill=\"currentColor\" text-anchor=\"middle\">aux</textPath>\n",
=======
       "    <path class=\"displacy-arc\" id=\"arrow-43044764d3ed4d86b2e4e0fc0231eb74-0-43\" stroke-width=\"2px\" d=\"M8120,527.0 C8120,439.5 8250.0,439.5 8250.0,527.0\" fill=\"none\" stroke=\"currentColor\"/>\n",
       "    <text dy=\"1.25em\" style=\"font-size: 0.8em; letter-spacing: 1px\">\n",
       "        <textPath xlink:href=\"#arrow-43044764d3ed4d86b2e4e0fc0231eb74-0-43\" class=\"displacy-label\" startOffset=\"50%\" side=\"left\" fill=\"currentColor\" text-anchor=\"middle\">aux</textPath>\n",
>>>>>>> 3b08fed2c399f9efc3492fcd331e69df69f00eaf
       "    </text>\n",
       "    <path class=\"displacy-arrowhead\" d=\"M8120,529.0 L8112,517.0 8128,517.0\" fill=\"currentColor\"/>\n",
       "</g>\n",
       "\n",
       "<g class=\"displacy-arrow\">\n",
<<<<<<< HEAD
       "    <path class=\"displacy-arc\" id=\"arrow-681d261ed3db4e7c98424a79229b4df3-0-44\" stroke-width=\"2px\" d=\"M8295,527.0 C8295,439.5 8425.0,439.5 8425.0,527.0\" fill=\"none\" stroke=\"currentColor\"/>\n",
       "    <text dy=\"1.25em\" style=\"font-size: 0.8em; letter-spacing: 1px\">\n",
       "        <textPath xlink:href=\"#arrow-681d261ed3db4e7c98424a79229b4df3-0-44\" class=\"displacy-label\" startOffset=\"50%\" side=\"left\" fill=\"currentColor\" text-anchor=\"middle\">obj</textPath>\n",
=======
       "    <path class=\"displacy-arc\" id=\"arrow-43044764d3ed4d86b2e4e0fc0231eb74-0-44\" stroke-width=\"2px\" d=\"M8295,527.0 C8295,439.5 8425.0,439.5 8425.0,527.0\" fill=\"none\" stroke=\"currentColor\"/>\n",
       "    <text dy=\"1.25em\" style=\"font-size: 0.8em; letter-spacing: 1px\">\n",
       "        <textPath xlink:href=\"#arrow-43044764d3ed4d86b2e4e0fc0231eb74-0-44\" class=\"displacy-label\" startOffset=\"50%\" side=\"left\" fill=\"currentColor\" text-anchor=\"middle\">obj</textPath>\n",
>>>>>>> 3b08fed2c399f9efc3492fcd331e69df69f00eaf
       "    </text>\n",
       "    <path class=\"displacy-arrowhead\" d=\"M8425.0,529.0 L8433.0,517.0 8417.0,517.0\" fill=\"currentColor\"/>\n",
       "</g>\n",
       "\n",
       "<g class=\"displacy-arrow\">\n",
<<<<<<< HEAD
       "    <path class=\"displacy-arc\" id=\"arrow-681d261ed3db4e7c98424a79229b4df3-0-45\" stroke-width=\"2px\" d=\"M8645,527.0 C8645,439.5 8775.0,439.5 8775.0,527.0\" fill=\"none\" stroke=\"currentColor\"/>\n",
       "    <text dy=\"1.25em\" style=\"font-size: 0.8em; letter-spacing: 1px\">\n",
       "        <textPath xlink:href=\"#arrow-681d261ed3db4e7c98424a79229b4df3-0-45\" class=\"displacy-label\" startOffset=\"50%\" side=\"left\" fill=\"currentColor\" text-anchor=\"middle\">nmod:poss</textPath>\n",
=======
       "    <path class=\"displacy-arc\" id=\"arrow-43044764d3ed4d86b2e4e0fc0231eb74-0-45\" stroke-width=\"2px\" d=\"M8645,527.0 C8645,439.5 8775.0,439.5 8775.0,527.0\" fill=\"none\" stroke=\"currentColor\"/>\n",
       "    <text dy=\"1.25em\" style=\"font-size: 0.8em; letter-spacing: 1px\">\n",
       "        <textPath xlink:href=\"#arrow-43044764d3ed4d86b2e4e0fc0231eb74-0-45\" class=\"displacy-label\" startOffset=\"50%\" side=\"left\" fill=\"currentColor\" text-anchor=\"middle\">nmod:poss</textPath>\n",
>>>>>>> 3b08fed2c399f9efc3492fcd331e69df69f00eaf
       "    </text>\n",
       "    <path class=\"displacy-arrowhead\" d=\"M8645,529.0 L8637,517.0 8653,517.0\" fill=\"currentColor\"/>\n",
       "</g>\n",
       "\n",
       "<g class=\"displacy-arrow\">\n",
<<<<<<< HEAD
       "    <path class=\"displacy-arc\" id=\"arrow-681d261ed3db4e7c98424a79229b4df3-0-46\" stroke-width=\"2px\" d=\"M8470,527.0 C8470,352.0 8780.0,352.0 8780.0,527.0\" fill=\"none\" stroke=\"currentColor\"/>\n",
       "    <text dy=\"1.25em\" style=\"font-size: 0.8em; letter-spacing: 1px\">\n",
       "        <textPath xlink:href=\"#arrow-681d261ed3db4e7c98424a79229b4df3-0-46\" class=\"displacy-label\" startOffset=\"50%\" side=\"left\" fill=\"currentColor\" text-anchor=\"middle\">conj</textPath>\n",
=======
       "    <path class=\"displacy-arc\" id=\"arrow-43044764d3ed4d86b2e4e0fc0231eb74-0-46\" stroke-width=\"2px\" d=\"M8470,527.0 C8470,352.0 8780.0,352.0 8780.0,527.0\" fill=\"none\" stroke=\"currentColor\"/>\n",
       "    <text dy=\"1.25em\" style=\"font-size: 0.8em; letter-spacing: 1px\">\n",
       "        <textPath xlink:href=\"#arrow-43044764d3ed4d86b2e4e0fc0231eb74-0-46\" class=\"displacy-label\" startOffset=\"50%\" side=\"left\" fill=\"currentColor\" text-anchor=\"middle\">conj</textPath>\n",
>>>>>>> 3b08fed2c399f9efc3492fcd331e69df69f00eaf
       "    </text>\n",
       "    <path class=\"displacy-arrowhead\" d=\"M8780.0,529.0 L8788.0,517.0 8772.0,517.0\" fill=\"currentColor\"/>\n",
       "</g>\n",
       "\n",
       "<g class=\"displacy-arrow\">\n",
<<<<<<< HEAD
       "    <path class=\"displacy-arc\" id=\"arrow-681d261ed3db4e7c98424a79229b4df3-0-47\" stroke-width=\"2px\" d=\"M8820,527.0 C8820,439.5 8950.0,439.5 8950.0,527.0\" fill=\"none\" stroke=\"currentColor\"/>\n",
       "    <text dy=\"1.25em\" style=\"font-size: 0.8em; letter-spacing: 1px\">\n",
       "        <textPath xlink:href=\"#arrow-681d261ed3db4e7c98424a79229b4df3-0-47\" class=\"displacy-label\" startOffset=\"50%\" side=\"left\" fill=\"currentColor\" text-anchor=\"middle\">acl</textPath>\n",
=======
       "    <path class=\"displacy-arc\" id=\"arrow-43044764d3ed4d86b2e4e0fc0231eb74-0-47\" stroke-width=\"2px\" d=\"M8820,527.0 C8820,439.5 8950.0,439.5 8950.0,527.0\" fill=\"none\" stroke=\"currentColor\"/>\n",
       "    <text dy=\"1.25em\" style=\"font-size: 0.8em; letter-spacing: 1px\">\n",
       "        <textPath xlink:href=\"#arrow-43044764d3ed4d86b2e4e0fc0231eb74-0-47\" class=\"displacy-label\" startOffset=\"50%\" side=\"left\" fill=\"currentColor\" text-anchor=\"middle\">acl</textPath>\n",
>>>>>>> 3b08fed2c399f9efc3492fcd331e69df69f00eaf
       "    </text>\n",
       "    <path class=\"displacy-arrowhead\" d=\"M8950.0,529.0 L8958.0,517.0 8942.0,517.0\" fill=\"currentColor\"/>\n",
       "</g>\n",
       "</svg>\n",
       "</figure>\n",
       "</body>\n",
       "</html>"
      ],
      "text/plain": [
       "<IPython.core.display.HTML object>"
      ]
     },
     "metadata": {},
     "output_type": "display_data"
    },
    {
     "name": "stdout",
     "output_type": "stream",
     "text": [
      "\n",
      "Using the 'dep' visualizer\n",
      "Serving on http://0.0.0.0:5000 ...\n",
      "\n",
      "Shutting down server on port 5000.\n"
     ]
    }
   ],
   "source": [
    "import spacy\n",
    "from spacy import displacy\n",
    "\n",
    "displacy.serve(doc_fr, style=\"dep\")"
   ]
  },
  {
   "cell_type": "code",
   "execution_count": null,
   "metadata": {},
   "outputs": [],
   "source": []
  }
 ],
 "metadata": {
  "kernelspec": {
   "display_name": "Python 3",
   "language": "python",
   "name": "python3"
  },
  "language_info": {
   "codemirror_mode": {
    "name": "ipython",
    "version": 3
   },
   "file_extension": ".py",
   "mimetype": "text/x-python",
   "name": "python",
   "nbconvert_exporter": "python",
   "pygments_lexer": "ipython3",
   "version": "3.7.3"
  }
 },
 "nbformat": 4,
 "nbformat_minor": 4
}
