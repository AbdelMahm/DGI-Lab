{
 "cells": [
  {
   "cell_type": "markdown",
   "metadata": {},
   "source": [
    "## Import Data"
   ]
  },
  {
   "cell_type": "code",
   "execution_count": 69,
   "metadata": {},
   "outputs": [],
   "source": [
    "from sklearn.datasets import fetch_20newsgroups\n",
    "twenty_train = fetch_20newsgroups(subset='train', shuffle=True)\n",
    "twenty_test = fetch_20newsgroups(subset='test', shuffle=True)"
   ]
  },
  {
   "cell_type": "markdown",
   "metadata": {},
   "source": [
    "## Show categories"
   ]
  },
  {
   "cell_type": "code",
   "execution_count": 19,
   "metadata": {},
   "outputs": [
    {
     "data": {
      "text/plain": [
       "['alt.atheism',\n",
       " 'comp.graphics',\n",
       " 'comp.os.ms-windows.misc',\n",
       " 'comp.sys.ibm.pc.hardware',\n",
       " 'comp.sys.mac.hardware',\n",
       " 'comp.windows.x',\n",
       " 'misc.forsale',\n",
       " 'rec.autos',\n",
       " 'rec.motorcycles',\n",
       " 'rec.sport.baseball',\n",
       " 'rec.sport.hockey',\n",
       " 'sci.crypt',\n",
       " 'sci.electronics',\n",
       " 'sci.med',\n",
       " 'sci.space',\n",
       " 'soc.religion.christian',\n",
       " 'talk.politics.guns',\n",
       " 'talk.politics.mideast',\n",
       " 'talk.politics.misc',\n",
       " 'talk.religion.misc']"
      ]
     },
     "execution_count": 19,
     "metadata": {},
     "output_type": "execute_result"
    }
   ],
   "source": [
    "twenty_train.target_names #prints all the categories"
   ]
  },
  {
   "cell_type": "code",
   "execution_count": 56,
   "metadata": {},
   "outputs": [
    {
     "data": {
      "text/plain": [
       "(11314,)"
      ]
     },
     "execution_count": 56,
     "metadata": {},
     "output_type": "execute_result"
    }
   ],
   "source": [
    "import numpy as np\n",
    "np.shape(twenty_train.data)"
   ]
  },
  {
   "cell_type": "code",
   "execution_count": 59,
   "metadata": {},
   "outputs": [
    {
     "name": "stdout",
     "output_type": "stream",
     "text": [
      "From: gunning@cco.caltech.edu (Kevin J. Gunning)\n",
      "Subject: stolen CBR900RR\n",
      "Organization: California Institute of Technology, Pasadena\n",
      "Lines: 12\n",
      "Distribution: usa\n",
      "NNTP-Posting-Host: alumni.caltech.edu\n",
      "Summary: see above\n",
      "\n",
      "Stolen from Pasadena between 4:30 and 6:30 pm on 4/15.\n",
      "\n",
      "Blue and white Honda CBR900RR california plate KG CBR.   Serial number\n",
      "JH2SC281XPM100187, engine number 2101240.\n",
      "\n",
      "No turn signals or mirrors, lights taped over for track riders session\n",
      "at Willow Springs tomorrow.  Guess I'll miss it.  :-(((\n",
      "\n",
      "Help me find my baby!!!\n",
      "\n",
      "kjg\n",
      "\n",
      "\n"
     ]
    }
   ],
   "source": [
    "print(twenty_train.data[11313]) #prints the last data file"
   ]
  },
  {
   "cell_type": "code",
   "execution_count": 60,
   "metadata": {},
   "outputs": [
    {
     "name": "stdout",
     "output_type": "stream",
     "text": [
      "From: gunning@cco.caltech.edu (Kevin J. Gunning)\n",
      "Subject: stolen CBR900RR\n",
      "Organization: California Institute of Technology, Pasadena\n"
     ]
    }
   ],
   "source": [
    "print(\"\\n\".join(twenty_train.data[-1].split(\"\\n\")[:3])) #prints first 3 lines of the last data file"
   ]
  },
  {
   "cell_type": "markdown",
   "metadata": {},
   "source": [
    "## Features Extraction"
   ]
  },
  {
   "cell_type": "markdown",
   "metadata": {},
   "source": [
    "### Count Vectorizer"
   ]
  },
  {
   "cell_type": "code",
   "execution_count": 68,
   "metadata": {},
   "outputs": [
    {
     "data": {
      "text/plain": [
       "(11314, 130107)"
      ]
     },
     "execution_count": 68,
     "metadata": {},
     "output_type": "execute_result"
    }
   ],
   "source": [
    "from sklearn.feature_extraction.text import CountVectorizer\n",
    "\n",
    "count_vect = CountVectorizer()\n",
    "X_train_counts = count_vect.fit_transform(twenty_train.data)\n",
    "X_train_counts.shape"
   ]
  },
  {
   "cell_type": "markdown",
   "metadata": {},
   "source": [
    "### TF-IDF"
   ]
  },
  {
   "cell_type": "code",
   "execution_count": 66,
   "metadata": {},
   "outputs": [
    {
     "data": {
      "text/plain": [
       "(11314, 130107)"
      ]
     },
     "execution_count": 66,
     "metadata": {},
     "output_type": "execute_result"
    }
   ],
   "source": [
    "from sklearn.feature_extraction.text import TfidfTransformer\n",
    "\n",
    "tfidf_transformer = TfidfTransformer()\n",
    "X_train_tfidf = tfidf_transformer.fit_transform(X_train_counts)\n",
    "X_train_tfidf.shape"
   ]
  },
  {
   "cell_type": "markdown",
   "metadata": {},
   "source": [
    "## Training"
   ]
  },
  {
   "cell_type": "markdown",
   "metadata": {},
   "source": [
    "### Multinomial Naive Bayes Classifier"
   ]
  },
  {
   "cell_type": "code",
   "execution_count": 23,
   "metadata": {},
   "outputs": [],
   "source": [
    "from sklearn.naive_bayes import MultinomialNB\n",
    "clf = MultinomialNB().fit(X_train_tfidf, twenty_train.target)"
   ]
  },
  {
   "cell_type": "markdown",
   "metadata": {},
   "source": [
    "### Other alternative using Piplines (CountVectorizer -> TF-IDF-> MNB)"
   ]
  },
  {
   "cell_type": "code",
   "execution_count": 24,
   "metadata": {},
   "outputs": [],
   "source": [
    "from sklearn.pipeline import Pipeline\n",
    "\n",
    "text_clf_mnb = Pipeline([('vect', CountVectorizer()), ('tfidf', TfidfTransformer()), ('clf', MultinomialNB())])\n",
    "\n",
    "text_clf_mnb = text_clf.fit(twenty_train.data, twenty_train.target)"
   ]
  },
  {
   "cell_type": "markdown",
   "metadata": {},
   "source": [
    "### Performance of MNB"
   ]
  },
  {
   "cell_type": "code",
   "execution_count": 25,
   "metadata": {},
   "outputs": [
    {
     "data": {
      "text/plain": [
       "0.7738980350504514"
      ]
     },
     "execution_count": 25,
     "metadata": {},
     "output_type": "execute_result"
    }
   ],
   "source": [
    "import numpy as np\n",
    "\n",
    "predicted = text_clf_mnb.predict(twenty_test.data)\n",
    "np.mean(predicted == twenty_test.target)"
   ]
  },
  {
   "cell_type": "markdown",
   "metadata": {},
   "source": [
    "### Try Pipeline with SVM (CountVectorizer -> TF-IDF-> SVM)"
   ]
  },
  {
   "cell_type": "code",
   "execution_count": 26,
   "metadata": {},
   "outputs": [
    {
     "name": "stderr",
     "output_type": "stream",
     "text": [
      "/Library/Frameworks/Python.framework/Versions/3.7/lib/python3.7/site-packages/sklearn/linear_model/_stochastic_gradient.py:557: ConvergenceWarning: Maximum number of iteration reached before convergence. Consider increasing max_iter to improve the fit.\n",
      "  ConvergenceWarning)\n"
     ]
    },
    {
     "data": {
      "text/plain": [
       "0.8248805098247477"
      ]
     },
     "execution_count": 26,
     "metadata": {},
     "output_type": "execute_result"
    }
   ],
   "source": [
    "from sklearn.linear_model import SGDClassifier\n",
    "text_clf_svm = Pipeline([('vect', CountVectorizer()), ('tfidf', TfidfTransformer()),\n",
    "                         ('clf-svm', SGDClassifier(loss='hinge', penalty='l2',alpha=1e-3, max_iter=5, random_state=42))])\n",
    "\n",
    "text_clf_svm = text_clf_svm.fit(twenty_train.data, twenty_train.target)\n",
    "predicted_svm = text_clf_svm.predict(twenty_test.data)\n",
    "np.mean(predicted_svm == twenty_test.target)"
   ]
  },
  {
   "cell_type": "markdown",
   "metadata": {},
   "source": [
    "## Grid Search"
   ]
  },
  {
   "cell_type": "markdown",
   "metadata": {},
   "source": [
    "### Grid Search for MNB"
   ]
  },
  {
   "cell_type": "code",
   "execution_count": 27,
   "metadata": {},
   "outputs": [
    {
     "data": {
      "text/plain": [
       "{'clf__alpha': 0.001, 'tfidf__use_idf': True, 'vect__ngram_range': (1, 2)}"
      ]
     },
     "execution_count": 27,
     "metadata": {},
     "output_type": "execute_result"
    }
   ],
   "source": [
    "from sklearn.model_selection import GridSearchCV\n",
    "parameters = {'vect__ngram_range': [(1, 1), (1, 2)], 'tfidf__use_idf': (True, False), 'clf__alpha': (1e-2, 1e-3)}\n",
    "\n",
    "gs_clf = GridSearchCV(text_clf_mnb, parameters, n_jobs=-1)\n",
    "gs_clf = gs_clf.fit(twenty_train.data, twenty_train.target)\n",
    "\n",
    "gs_clf.best_score_\n",
    "gs_clf.best_params_"
   ]
  },
  {
   "cell_type": "markdown",
   "metadata": {
    "collapsed": true
   },
   "source": [
    "### Grid Search for SVM"
   ]
  },
  {
   "cell_type": "code",
   "execution_count": 28,
   "metadata": {},
   "outputs": [
    {
     "name": "stderr",
     "output_type": "stream",
     "text": [
      "/Library/Frameworks/Python.framework/Versions/3.7/lib/python3.7/site-packages/sklearn/linear_model/_stochastic_gradient.py:557: ConvergenceWarning: Maximum number of iteration reached before convergence. Consider increasing max_iter to improve the fit.\n",
      "  ConvergenceWarning)\n"
     ]
    },
    {
     "data": {
      "text/plain": [
       "{'clf-svm__alpha': 0.001, 'tfidf__use_idf': True, 'vect__ngram_range': (1, 2)}"
      ]
     },
     "execution_count": 28,
     "metadata": {},
     "output_type": "execute_result"
    }
   ],
   "source": [
    "from sklearn.model_selection import GridSearchCV\n",
    "parameters_svm = {'vect__ngram_range': [(1, 1), (1, 2)], 'tfidf__use_idf': (True, False),'clf-svm__alpha': (1e-2, 1e-3)}\n",
    "\n",
    "gs_clf_svm = GridSearchCV(text_clf_svm, parameters_svm, n_jobs=-1)\n",
    "gs_clf_svm = gs_clf_svm.fit(twenty_train.data, twenty_train.target)\n",
    "\n",
    "gs_clf_svm.best_score_\n",
    "gs_clf_svm.best_params_"
   ]
  },
  {
   "cell_type": "markdown",
   "metadata": {},
   "source": [
    "## NLTK"
   ]
  },
  {
   "cell_type": "markdown",
   "metadata": {},
   "source": [
    "### Stemming Code"
   ]
  },
  {
   "cell_type": "code",
   "execution_count": 33,
   "metadata": {},
   "outputs": [],
   "source": [
    "import nltk\n",
    "\n",
    "from nltk.stem.snowball import SnowballStemmer\n",
    "stemmer = SnowballStemmer(\"english\", ignore_stopwords=True)\n",
    "\n",
    "class StemmedCountVectorizer(CountVectorizer):\n",
    "    def build_analyzer(self):\n",
    "        analyzer = super(StemmedCountVectorizer, self).build_analyzer()\n",
    "        return lambda doc: ([stemmer.stem(w) for w in analyzer(doc)])\n",
    "    \n",
    "stemmed_count_vect = StemmedCountVectorizer(stop_words='english')"
   ]
  },
  {
   "cell_type": "markdown",
   "metadata": {
    "collapsed": true
   },
   "source": [
    "### Classify with MNB"
   ]
  },
  {
   "cell_type": "code",
   "execution_count": 34,
   "metadata": {},
   "outputs": [
    {
     "data": {
      "text/plain": [
       "0.8167817312798725"
      ]
     },
     "execution_count": 34,
     "metadata": {},
     "output_type": "execute_result"
    }
   ],
   "source": [
    "text_clf_mnb_stemmed = Pipeline([('vect', stemmed_count_vect), ('tfidf', TfidfTransformer()), \n",
    "                             ('mnb', MultinomialNB(fit_prior=False))])\n",
    "\n",
    "text_clf_mnb_stemmed = text_clf_mnb_stemmed.fit(twenty_train.data, twenty_train.target)\n",
    "\n",
    "predicted_mnb_stemmed = text_clf_mnb_stemmed.predict(twenty_test.data)\n",
    "\n",
    "np.mean(predicted_mnb_stemmed == twenty_test.target)"
   ]
  },
  {
   "cell_type": "markdown",
   "metadata": {},
   "source": [
    "### Classify with SVM"
   ]
  },
  {
   "cell_type": "code",
   "execution_count": 35,
   "metadata": {},
   "outputs": [
    {
     "name": "stderr",
     "output_type": "stream",
     "text": [
      "/Library/Frameworks/Python.framework/Versions/3.7/lib/python3.7/site-packages/sklearn/linear_model/_stochastic_gradient.py:557: ConvergenceWarning: Maximum number of iteration reached before convergence. Consider increasing max_iter to improve the fit.\n",
      "  ConvergenceWarning)\n"
     ]
    },
    {
     "data": {
      "text/plain": [
       "0.8201009028146574"
      ]
     },
     "execution_count": 35,
     "metadata": {},
     "output_type": "execute_result"
    }
   ],
   "source": [
    "text_clf_svm_stemmed = Pipeline([('vect', stemmed_count_vect), ('tfidf', TfidfTransformer()),\n",
    "                         ('clf-svm', SGDClassifier(loss='hinge', penalty='l2',alpha=.001, max_iter=5, random_state=42))])\n",
    "\n",
    "text_clf_svm_stemmed = text_clf_svm_stemmed.fit(twenty_train.data, twenty_train.target)\n",
    "\n",
    "predicted_svm_stemmed = text_clf_svm_stemmed.predict(twenty_test.data)\n",
    "\n",
    "np.mean(predicted_svm_stemmed == twenty_test.target)"
   ]
  },
  {
   "cell_type": "markdown",
   "metadata": {},
   "source": [
    "### Test for a document"
   ]
  },
  {
   "cell_type": "code",
   "execution_count": 104,
   "metadata": {},
   "outputs": [
    {
     "name": "stdout",
     "output_type": "stream",
     "text": [
      "['From: \"Dennis G Parslow\" <p00421@psilink.com>\\nSubject: Re: John Franco\\nIn-Reply-To: <C5wtHC.9I2@world.std.com>\\nNntp-Posting-Host: 127.0.0.1\\nOrganization: Performance Systems Int\\'l\\nX-Mailer: PSILink-DOS (3.4)\\nLines: 32\\n\\n>DATE:   Fri, 23 Apr 1993 00:03:11 GMT\\n>FROM:   Tackey Chan <tac@world.std.com>\\n>\\n>wall@cc.swarthmore.edu (Matthew Wall) writes:\\n>\\n>>So, anybody know what\\'s up with John Franco? Are the Mets just starting him\\n>>off gingerly because of the small amount of spring training work, or what?\\n>\\n>\\tThe Mets are REALLY starting him off slow. Mike Maddax and\\n>Young can do the job of closing. Torborg has said that he Franco is\\n>his closer but will give him rest and not rush him since there is no\\n>need. He does not want Franco to get hurt on his return. I have this\\n>guy so I know what it is like to see him pitch 2 inns in that lat 2\\n>weeks. \\n>\\n>\\t\\t\\t------TAC\\n\\nWell, they just said that Franco will probably go on the DL tomorrow.\\n(They mentioned a career minor leaguer as the \"warm body\" who would go \\nalong...I forget.)\\n\\nAlso, when answering questions about the rotation, Coleman (SD \\nbroadcaster) said that Hurst is gone in about a month-month and a half, \\nwhich is when he should finish re-hab.\\n\\nLater\\n\\nDennis\\n\\nDennis Parslow                    That better be a Korean good \\nTroy, NY 12180                    luck symbol!  -Remo Williams\\np00421@psilink.com\\n']\n",
      "[9]\n",
      "9\n"
     ]
    }
   ],
   "source": [
    "document_idx = 1000\n",
    "print(twenty_test.data[document_idx:document_idx+1])\n",
    "print(text_clf_svm_stemmed.predict(twenty_test.data[document_idx:document_idx+1]))\n",
    "print(twenty_test.target[document_idx])"
   ]
  },
  {
   "cell_type": "markdown",
   "metadata": {},
   "source": [
    "# Word2Vec"
   ]
  },
  {
   "cell_type": "code",
   "execution_count": 20,
   "metadata": {},
   "outputs": [
    {
     "name": "stdout",
     "output_type": "stream",
     "text": [
      "/bin/sh: wget: command not found\r\n"
     ]
    }
   ],
   "source": [
    "# download glov pretrained vectors from https://nlp.stanford.edu/projects/glove/\n",
    "# or\n",
    "#!wget -c \"https://s3.amazonaws.com/dl4j-distribution/GoogleNews-vectors-negative300.bin.gz\""
   ]
  },
  {
   "cell_type": "code",
   "execution_count": 5,
   "metadata": {},
   "outputs": [],
   "source": [
    "import numpy as np\n",
    "\n",
    "def read_glove_vecs(glove_file):\n",
    "    with open(glove_file, 'r') as f:\n",
    "        words = set()\n",
    "        word_to_vec_map = {}\n",
    "        \n",
    "        for line in f:\n",
    "            line = line.strip().split()\n",
    "            curr_word = line[0]\n",
    "            words.add(curr_word)\n",
    "            word_to_vec_map[curr_word] = np.array(line[1:], dtype=np.float64)\n",
    "            \n",
    "    return words, word_to_vec_map"
   ]
  },
  {
   "cell_type": "code",
   "execution_count": 23,
   "metadata": {},
   "outputs": [],
   "source": [
    "#glove_file = # use glove data from the previous assignement (Emojyfier folder)\n",
    "words, word_to_vec_map = read_glove_vecs('glove.6B.50d.txt')"
   ]
  },
  {
   "cell_type": "code",
   "execution_count": 58,
   "metadata": {},
   "outputs": [],
   "source": [
    "king = word_to_vec_map[\"king\"]\n",
    "queen = word_to_vec_map[\"queen\"]\n",
    "man = word_to_vec_map[\"man\"]\n",
    "women = word_to_vec_map[\"women\"]\n",
    "princess = word_to_vec_map[\"princess\"]"
   ]
  },
  {
   "cell_type": "markdown",
   "metadata": {},
   "source": [
    "## Visualize with T-SNE"
   ]
  },
  {
   "cell_type": "code",
   "execution_count": 62,
   "metadata": {},
   "outputs": [],
   "source": [
    "arr = np.zeros((5, 50), dtype='f')\n",
    "arr[0, :] = king\n",
    "arr[1, :] = queen\n",
    "arr[2, :] = man\n",
    "arr[3, :] = women\n",
    "arr[4, :] = princess"
   ]
  },
  {
   "cell_type": "code",
   "execution_count": 61,
   "metadata": {},
   "outputs": [
    {
     "data": {
      "application/javascript": [
       "/* Put everything inside the global mpl namespace */\n",
       "window.mpl = {};\n",
       "\n",
       "\n",
       "mpl.get_websocket_type = function() {\n",
       "    if (typeof(WebSocket) !== 'undefined') {\n",
       "        return WebSocket;\n",
       "    } else if (typeof(MozWebSocket) !== 'undefined') {\n",
       "        return MozWebSocket;\n",
       "    } else {\n",
       "        alert('Your browser does not have WebSocket support. ' +\n",
       "              'Please try Chrome, Safari or Firefox ≥ 6. ' +\n",
       "              'Firefox 4 and 5 are also supported but you ' +\n",
       "              'have to enable WebSockets in about:config.');\n",
       "    };\n",
       "}\n",
       "\n",
       "mpl.figure = function(figure_id, websocket, ondownload, parent_element) {\n",
       "    this.id = figure_id;\n",
       "\n",
       "    this.ws = websocket;\n",
       "\n",
       "    this.supports_binary = (this.ws.binaryType != undefined);\n",
       "\n",
       "    if (!this.supports_binary) {\n",
       "        var warnings = document.getElementById(\"mpl-warnings\");\n",
       "        if (warnings) {\n",
       "            warnings.style.display = 'block';\n",
       "            warnings.textContent = (\n",
       "                \"This browser does not support binary websocket messages. \" +\n",
       "                    \"Performance may be slow.\");\n",
       "        }\n",
       "    }\n",
       "\n",
       "    this.imageObj = new Image();\n",
       "\n",
       "    this.context = undefined;\n",
       "    this.message = undefined;\n",
       "    this.canvas = undefined;\n",
       "    this.rubberband_canvas = undefined;\n",
       "    this.rubberband_context = undefined;\n",
       "    this.format_dropdown = undefined;\n",
       "\n",
       "    this.image_mode = 'full';\n",
       "\n",
       "    this.root = $('<div/>');\n",
       "    this._root_extra_style(this.root)\n",
       "    this.root.attr('style', 'display: inline-block');\n",
       "\n",
       "    $(parent_element).append(this.root);\n",
       "\n",
       "    this._init_header(this);\n",
       "    this._init_canvas(this);\n",
       "    this._init_toolbar(this);\n",
       "\n",
       "    var fig = this;\n",
       "\n",
       "    this.waiting = false;\n",
       "\n",
       "    this.ws.onopen =  function () {\n",
       "            fig.send_message(\"supports_binary\", {value: fig.supports_binary});\n",
       "            fig.send_message(\"send_image_mode\", {});\n",
       "            if (mpl.ratio != 1) {\n",
       "                fig.send_message(\"set_dpi_ratio\", {'dpi_ratio': mpl.ratio});\n",
       "            }\n",
       "            fig.send_message(\"refresh\", {});\n",
       "        }\n",
       "\n",
       "    this.imageObj.onload = function() {\n",
       "            if (fig.image_mode == 'full') {\n",
       "                // Full images could contain transparency (where diff images\n",
       "                // almost always do), so we need to clear the canvas so that\n",
       "                // there is no ghosting.\n",
       "                fig.context.clearRect(0, 0, fig.canvas.width, fig.canvas.height);\n",
       "            }\n",
       "            fig.context.drawImage(fig.imageObj, 0, 0);\n",
       "        };\n",
       "\n",
       "    this.imageObj.onunload = function() {\n",
       "        fig.ws.close();\n",
       "    }\n",
       "\n",
       "    this.ws.onmessage = this._make_on_message_function(this);\n",
       "\n",
       "    this.ondownload = ondownload;\n",
       "}\n",
       "\n",
       "mpl.figure.prototype._init_header = function() {\n",
       "    var titlebar = $(\n",
       "        '<div class=\"ui-dialog-titlebar ui-widget-header ui-corner-all ' +\n",
       "        'ui-helper-clearfix\"/>');\n",
       "    var titletext = $(\n",
       "        '<div class=\"ui-dialog-title\" style=\"width: 100%; ' +\n",
       "        'text-align: center; padding: 3px;\"/>');\n",
       "    titlebar.append(titletext)\n",
       "    this.root.append(titlebar);\n",
       "    this.header = titletext[0];\n",
       "}\n",
       "\n",
       "\n",
       "\n",
       "mpl.figure.prototype._canvas_extra_style = function(canvas_div) {\n",
       "\n",
       "}\n",
       "\n",
       "\n",
       "mpl.figure.prototype._root_extra_style = function(canvas_div) {\n",
       "\n",
       "}\n",
       "\n",
       "mpl.figure.prototype._init_canvas = function() {\n",
       "    var fig = this;\n",
       "\n",
       "    var canvas_div = $('<div/>');\n",
       "\n",
       "    canvas_div.attr('style', 'position: relative; clear: both; outline: 0');\n",
       "\n",
       "    function canvas_keyboard_event(event) {\n",
       "        return fig.key_event(event, event['data']);\n",
       "    }\n",
       "\n",
       "    canvas_div.keydown('key_press', canvas_keyboard_event);\n",
       "    canvas_div.keyup('key_release', canvas_keyboard_event);\n",
       "    this.canvas_div = canvas_div\n",
       "    this._canvas_extra_style(canvas_div)\n",
       "    this.root.append(canvas_div);\n",
       "\n",
       "    var canvas = $('<canvas/>');\n",
       "    canvas.addClass('mpl-canvas');\n",
       "    canvas.attr('style', \"left: 0; top: 0; z-index: 0; outline: 0\")\n",
       "\n",
       "    this.canvas = canvas[0];\n",
       "    this.context = canvas[0].getContext(\"2d\");\n",
       "\n",
       "    var backingStore = this.context.backingStorePixelRatio ||\n",
       "\tthis.context.webkitBackingStorePixelRatio ||\n",
       "\tthis.context.mozBackingStorePixelRatio ||\n",
       "\tthis.context.msBackingStorePixelRatio ||\n",
       "\tthis.context.oBackingStorePixelRatio ||\n",
       "\tthis.context.backingStorePixelRatio || 1;\n",
       "\n",
       "    mpl.ratio = (window.devicePixelRatio || 1) / backingStore;\n",
       "\n",
       "    var rubberband = $('<canvas/>');\n",
       "    rubberband.attr('style', \"position: absolute; left: 0; top: 0; z-index: 1;\")\n",
       "\n",
       "    var pass_mouse_events = true;\n",
       "\n",
       "    canvas_div.resizable({\n",
       "        start: function(event, ui) {\n",
       "            pass_mouse_events = false;\n",
       "        },\n",
       "        resize: function(event, ui) {\n",
       "            fig.request_resize(ui.size.width, ui.size.height);\n",
       "        },\n",
       "        stop: function(event, ui) {\n",
       "            pass_mouse_events = true;\n",
       "            fig.request_resize(ui.size.width, ui.size.height);\n",
       "        },\n",
       "    });\n",
       "\n",
       "    function mouse_event_fn(event) {\n",
       "        if (pass_mouse_events)\n",
       "            return fig.mouse_event(event, event['data']);\n",
       "    }\n",
       "\n",
       "    rubberband.mousedown('button_press', mouse_event_fn);\n",
       "    rubberband.mouseup('button_release', mouse_event_fn);\n",
       "    // Throttle sequential mouse events to 1 every 20ms.\n",
       "    rubberband.mousemove('motion_notify', mouse_event_fn);\n",
       "\n",
       "    rubberband.mouseenter('figure_enter', mouse_event_fn);\n",
       "    rubberband.mouseleave('figure_leave', mouse_event_fn);\n",
       "\n",
       "    canvas_div.on(\"wheel\", function (event) {\n",
       "        event = event.originalEvent;\n",
       "        event['data'] = 'scroll'\n",
       "        if (event.deltaY < 0) {\n",
       "            event.step = 1;\n",
       "        } else {\n",
       "            event.step = -1;\n",
       "        }\n",
       "        mouse_event_fn(event);\n",
       "    });\n",
       "\n",
       "    canvas_div.append(canvas);\n",
       "    canvas_div.append(rubberband);\n",
       "\n",
       "    this.rubberband = rubberband;\n",
       "    this.rubberband_canvas = rubberband[0];\n",
       "    this.rubberband_context = rubberband[0].getContext(\"2d\");\n",
       "    this.rubberband_context.strokeStyle = \"#000000\";\n",
       "\n",
       "    this._resize_canvas = function(width, height) {\n",
       "        // Keep the size of the canvas, canvas container, and rubber band\n",
       "        // canvas in synch.\n",
       "        canvas_div.css('width', width)\n",
       "        canvas_div.css('height', height)\n",
       "\n",
       "        canvas.attr('width', width * mpl.ratio);\n",
       "        canvas.attr('height', height * mpl.ratio);\n",
       "        canvas.attr('style', 'width: ' + width + 'px; height: ' + height + 'px;');\n",
       "\n",
       "        rubberband.attr('width', width);\n",
       "        rubberband.attr('height', height);\n",
       "    }\n",
       "\n",
       "    // Set the figure to an initial 600x600px, this will subsequently be updated\n",
       "    // upon first draw.\n",
       "    this._resize_canvas(600, 600);\n",
       "\n",
       "    // Disable right mouse context menu.\n",
       "    $(this.rubberband_canvas).bind(\"contextmenu\",function(e){\n",
       "        return false;\n",
       "    });\n",
       "\n",
       "    function set_focus () {\n",
       "        canvas.focus();\n",
       "        canvas_div.focus();\n",
       "    }\n",
       "\n",
       "    window.setTimeout(set_focus, 100);\n",
       "}\n",
       "\n",
       "mpl.figure.prototype._init_toolbar = function() {\n",
       "    var fig = this;\n",
       "\n",
       "    var nav_element = $('<div/>');\n",
       "    nav_element.attr('style', 'width: 100%');\n",
       "    this.root.append(nav_element);\n",
       "\n",
       "    // Define a callback function for later on.\n",
       "    function toolbar_event(event) {\n",
       "        return fig.toolbar_button_onclick(event['data']);\n",
       "    }\n",
       "    function toolbar_mouse_event(event) {\n",
       "        return fig.toolbar_button_onmouseover(event['data']);\n",
       "    }\n",
       "\n",
       "    for(var toolbar_ind in mpl.toolbar_items) {\n",
       "        var name = mpl.toolbar_items[toolbar_ind][0];\n",
       "        var tooltip = mpl.toolbar_items[toolbar_ind][1];\n",
       "        var image = mpl.toolbar_items[toolbar_ind][2];\n",
       "        var method_name = mpl.toolbar_items[toolbar_ind][3];\n",
       "\n",
       "        if (!name) {\n",
       "            // put a spacer in here.\n",
       "            continue;\n",
       "        }\n",
       "        var button = $('<button/>');\n",
       "        button.addClass('ui-button ui-widget ui-state-default ui-corner-all ' +\n",
       "                        'ui-button-icon-only');\n",
       "        button.attr('role', 'button');\n",
       "        button.attr('aria-disabled', 'false');\n",
       "        button.click(method_name, toolbar_event);\n",
       "        button.mouseover(tooltip, toolbar_mouse_event);\n",
       "\n",
       "        var icon_img = $('<span/>');\n",
       "        icon_img.addClass('ui-button-icon-primary ui-icon');\n",
       "        icon_img.addClass(image);\n",
       "        icon_img.addClass('ui-corner-all');\n",
       "\n",
       "        var tooltip_span = $('<span/>');\n",
       "        tooltip_span.addClass('ui-button-text');\n",
       "        tooltip_span.html(tooltip);\n",
       "\n",
       "        button.append(icon_img);\n",
       "        button.append(tooltip_span);\n",
       "\n",
       "        nav_element.append(button);\n",
       "    }\n",
       "\n",
       "    var fmt_picker_span = $('<span/>');\n",
       "\n",
       "    var fmt_picker = $('<select/>');\n",
       "    fmt_picker.addClass('mpl-toolbar-option ui-widget ui-widget-content');\n",
       "    fmt_picker_span.append(fmt_picker);\n",
       "    nav_element.append(fmt_picker_span);\n",
       "    this.format_dropdown = fmt_picker[0];\n",
       "\n",
       "    for (var ind in mpl.extensions) {\n",
       "        var fmt = mpl.extensions[ind];\n",
       "        var option = $(\n",
       "            '<option/>', {selected: fmt === mpl.default_extension}).html(fmt);\n",
       "        fmt_picker.append(option);\n",
       "    }\n",
       "\n",
       "    // Add hover states to the ui-buttons\n",
       "    $( \".ui-button\" ).hover(\n",
       "        function() { $(this).addClass(\"ui-state-hover\");},\n",
       "        function() { $(this).removeClass(\"ui-state-hover\");}\n",
       "    );\n",
       "\n",
       "    var status_bar = $('<span class=\"mpl-message\"/>');\n",
       "    nav_element.append(status_bar);\n",
       "    this.message = status_bar[0];\n",
       "}\n",
       "\n",
       "mpl.figure.prototype.request_resize = function(x_pixels, y_pixels) {\n",
       "    // Request matplotlib to resize the figure. Matplotlib will then trigger a resize in the client,\n",
       "    // which will in turn request a refresh of the image.\n",
       "    this.send_message('resize', {'width': x_pixels, 'height': y_pixels});\n",
       "}\n",
       "\n",
       "mpl.figure.prototype.send_message = function(type, properties) {\n",
       "    properties['type'] = type;\n",
       "    properties['figure_id'] = this.id;\n",
       "    this.ws.send(JSON.stringify(properties));\n",
       "}\n",
       "\n",
       "mpl.figure.prototype.send_draw_message = function() {\n",
       "    if (!this.waiting) {\n",
       "        this.waiting = true;\n",
       "        this.ws.send(JSON.stringify({type: \"draw\", figure_id: this.id}));\n",
       "    }\n",
       "}\n",
       "\n",
       "\n",
       "mpl.figure.prototype.handle_save = function(fig, msg) {\n",
       "    var format_dropdown = fig.format_dropdown;\n",
       "    var format = format_dropdown.options[format_dropdown.selectedIndex].value;\n",
       "    fig.ondownload(fig, format);\n",
       "}\n",
       "\n",
       "\n",
       "mpl.figure.prototype.handle_resize = function(fig, msg) {\n",
       "    var size = msg['size'];\n",
       "    if (size[0] != fig.canvas.width || size[1] != fig.canvas.height) {\n",
       "        fig._resize_canvas(size[0], size[1]);\n",
       "        fig.send_message(\"refresh\", {});\n",
       "    };\n",
       "}\n",
       "\n",
       "mpl.figure.prototype.handle_rubberband = function(fig, msg) {\n",
       "    var x0 = msg['x0'] / mpl.ratio;\n",
       "    var y0 = (fig.canvas.height - msg['y0']) / mpl.ratio;\n",
       "    var x1 = msg['x1'] / mpl.ratio;\n",
       "    var y1 = (fig.canvas.height - msg['y1']) / mpl.ratio;\n",
       "    x0 = Math.floor(x0) + 0.5;\n",
       "    y0 = Math.floor(y0) + 0.5;\n",
       "    x1 = Math.floor(x1) + 0.5;\n",
       "    y1 = Math.floor(y1) + 0.5;\n",
       "    var min_x = Math.min(x0, x1);\n",
       "    var min_y = Math.min(y0, y1);\n",
       "    var width = Math.abs(x1 - x0);\n",
       "    var height = Math.abs(y1 - y0);\n",
       "\n",
       "    fig.rubberband_context.clearRect(\n",
       "        0, 0, fig.canvas.width / mpl.ratio, fig.canvas.height / mpl.ratio);\n",
       "\n",
       "    fig.rubberband_context.strokeRect(min_x, min_y, width, height);\n",
       "}\n",
       "\n",
       "mpl.figure.prototype.handle_figure_label = function(fig, msg) {\n",
       "    // Updates the figure title.\n",
       "    fig.header.textContent = msg['label'];\n",
       "}\n",
       "\n",
       "mpl.figure.prototype.handle_cursor = function(fig, msg) {\n",
       "    var cursor = msg['cursor'];\n",
       "    switch(cursor)\n",
       "    {\n",
       "    case 0:\n",
       "        cursor = 'pointer';\n",
       "        break;\n",
       "    case 1:\n",
       "        cursor = 'default';\n",
       "        break;\n",
       "    case 2:\n",
       "        cursor = 'crosshair';\n",
       "        break;\n",
       "    case 3:\n",
       "        cursor = 'move';\n",
       "        break;\n",
       "    }\n",
       "    fig.rubberband_canvas.style.cursor = cursor;\n",
       "}\n",
       "\n",
       "mpl.figure.prototype.handle_message = function(fig, msg) {\n",
       "    fig.message.textContent = msg['message'];\n",
       "}\n",
       "\n",
       "mpl.figure.prototype.handle_draw = function(fig, msg) {\n",
       "    // Request the server to send over a new figure.\n",
       "    fig.send_draw_message();\n",
       "}\n",
       "\n",
       "mpl.figure.prototype.handle_image_mode = function(fig, msg) {\n",
       "    fig.image_mode = msg['mode'];\n",
       "}\n",
       "\n",
       "mpl.figure.prototype.updated_canvas_event = function() {\n",
       "    // Called whenever the canvas gets updated.\n",
       "    this.send_message(\"ack\", {});\n",
       "}\n",
       "\n",
       "// A function to construct a web socket function for onmessage handling.\n",
       "// Called in the figure constructor.\n",
       "mpl.figure.prototype._make_on_message_function = function(fig) {\n",
       "    return function socket_on_message(evt) {\n",
       "        if (evt.data instanceof Blob) {\n",
       "            /* FIXME: We get \"Resource interpreted as Image but\n",
       "             * transferred with MIME type text/plain:\" errors on\n",
       "             * Chrome.  But how to set the MIME type?  It doesn't seem\n",
       "             * to be part of the websocket stream */\n",
       "            evt.data.type = \"image/png\";\n",
       "\n",
       "            /* Free the memory for the previous frames */\n",
       "            if (fig.imageObj.src) {\n",
       "                (window.URL || window.webkitURL).revokeObjectURL(\n",
       "                    fig.imageObj.src);\n",
       "            }\n",
       "\n",
       "            fig.imageObj.src = (window.URL || window.webkitURL).createObjectURL(\n",
       "                evt.data);\n",
       "            fig.updated_canvas_event();\n",
       "            fig.waiting = false;\n",
       "            return;\n",
       "        }\n",
       "        else if (typeof evt.data === 'string' && evt.data.slice(0, 21) == \"data:image/png;base64\") {\n",
       "            fig.imageObj.src = evt.data;\n",
       "            fig.updated_canvas_event();\n",
       "            fig.waiting = false;\n",
       "            return;\n",
       "        }\n",
       "\n",
       "        var msg = JSON.parse(evt.data);\n",
       "        var msg_type = msg['type'];\n",
       "\n",
       "        // Call the  \"handle_{type}\" callback, which takes\n",
       "        // the figure and JSON message as its only arguments.\n",
       "        try {\n",
       "            var callback = fig[\"handle_\" + msg_type];\n",
       "        } catch (e) {\n",
       "            console.log(\"No handler for the '\" + msg_type + \"' message type: \", msg);\n",
       "            return;\n",
       "        }\n",
       "\n",
       "        if (callback) {\n",
       "            try {\n",
       "                // console.log(\"Handling '\" + msg_type + \"' message: \", msg);\n",
       "                callback(fig, msg);\n",
       "            } catch (e) {\n",
       "                console.log(\"Exception inside the 'handler_\" + msg_type + \"' callback:\", e, e.stack, msg);\n",
       "            }\n",
       "        }\n",
       "    };\n",
       "}\n",
       "\n",
       "// from http://stackoverflow.com/questions/1114465/getting-mouse-location-in-canvas\n",
       "mpl.findpos = function(e) {\n",
       "    //this section is from http://www.quirksmode.org/js/events_properties.html\n",
       "    var targ;\n",
       "    if (!e)\n",
       "        e = window.event;\n",
       "    if (e.target)\n",
       "        targ = e.target;\n",
       "    else if (e.srcElement)\n",
       "        targ = e.srcElement;\n",
       "    if (targ.nodeType == 3) // defeat Safari bug\n",
       "        targ = targ.parentNode;\n",
       "\n",
       "    // jQuery normalizes the pageX and pageY\n",
       "    // pageX,Y are the mouse positions relative to the document\n",
       "    // offset() returns the position of the element relative to the document\n",
       "    var x = e.pageX - $(targ).offset().left;\n",
       "    var y = e.pageY - $(targ).offset().top;\n",
       "\n",
       "    return {\"x\": x, \"y\": y};\n",
       "};\n",
       "\n",
       "/*\n",
       " * return a copy of an object with only non-object keys\n",
       " * we need this to avoid circular references\n",
       " * http://stackoverflow.com/a/24161582/3208463\n",
       " */\n",
       "function simpleKeys (original) {\n",
       "  return Object.keys(original).reduce(function (obj, key) {\n",
       "    if (typeof original[key] !== 'object')\n",
       "        obj[key] = original[key]\n",
       "    return obj;\n",
       "  }, {});\n",
       "}\n",
       "\n",
       "mpl.figure.prototype.mouse_event = function(event, name) {\n",
       "    var canvas_pos = mpl.findpos(event)\n",
       "\n",
       "    if (name === 'button_press')\n",
       "    {\n",
       "        this.canvas.focus();\n",
       "        this.canvas_div.focus();\n",
       "    }\n",
       "\n",
       "    var x = canvas_pos.x * mpl.ratio;\n",
       "    var y = canvas_pos.y * mpl.ratio;\n",
       "\n",
       "    this.send_message(name, {x: x, y: y, button: event.button,\n",
       "                             step: event.step,\n",
       "                             guiEvent: simpleKeys(event)});\n",
       "\n",
       "    /* This prevents the web browser from automatically changing to\n",
       "     * the text insertion cursor when the button is pressed.  We want\n",
       "     * to control all of the cursor setting manually through the\n",
       "     * 'cursor' event from matplotlib */\n",
       "    event.preventDefault();\n",
       "    return false;\n",
       "}\n",
       "\n",
       "mpl.figure.prototype._key_event_extra = function(event, name) {\n",
       "    // Handle any extra behaviour associated with a key event\n",
       "}\n",
       "\n",
       "mpl.figure.prototype.key_event = function(event, name) {\n",
       "\n",
       "    // Prevent repeat events\n",
       "    if (name == 'key_press')\n",
       "    {\n",
       "        if (event.which === this._key)\n",
       "            return;\n",
       "        else\n",
       "            this._key = event.which;\n",
       "    }\n",
       "    if (name == 'key_release')\n",
       "        this._key = null;\n",
       "\n",
       "    var value = '';\n",
       "    if (event.ctrlKey && event.which != 17)\n",
       "        value += \"ctrl+\";\n",
       "    if (event.altKey && event.which != 18)\n",
       "        value += \"alt+\";\n",
       "    if (event.shiftKey && event.which != 16)\n",
       "        value += \"shift+\";\n",
       "\n",
       "    value += 'k';\n",
       "    value += event.which.toString();\n",
       "\n",
       "    this._key_event_extra(event, name);\n",
       "\n",
       "    this.send_message(name, {key: value,\n",
       "                             guiEvent: simpleKeys(event)});\n",
       "    return false;\n",
       "}\n",
       "\n",
       "mpl.figure.prototype.toolbar_button_onclick = function(name) {\n",
       "    if (name == 'download') {\n",
       "        this.handle_save(this, null);\n",
       "    } else {\n",
       "        this.send_message(\"toolbar_button\", {name: name});\n",
       "    }\n",
       "};\n",
       "\n",
       "mpl.figure.prototype.toolbar_button_onmouseover = function(tooltip) {\n",
       "    this.message.textContent = tooltip;\n",
       "};\n",
       "mpl.toolbar_items = [[\"Home\", \"Reset original view\", \"fa fa-home icon-home\", \"home\"], [\"Back\", \"Back to previous view\", \"fa fa-arrow-left icon-arrow-left\", \"back\"], [\"Forward\", \"Forward to next view\", \"fa fa-arrow-right icon-arrow-right\", \"forward\"], [\"\", \"\", \"\", \"\"], [\"Pan\", \"Pan axes with left mouse, zoom with right\", \"fa fa-arrows icon-move\", \"pan\"], [\"Zoom\", \"Zoom to rectangle\", \"fa fa-square-o icon-check-empty\", \"zoom\"], [\"\", \"\", \"\", \"\"], [\"Download\", \"Download plot\", \"fa fa-floppy-o icon-save\", \"download\"]];\n",
       "\n",
       "mpl.extensions = [\"eps\", \"pdf\", \"png\", \"ps\", \"raw\", \"svg\"];\n",
       "\n",
       "mpl.default_extension = \"png\";var comm_websocket_adapter = function(comm) {\n",
       "    // Create a \"websocket\"-like object which calls the given IPython comm\n",
       "    // object with the appropriate methods. Currently this is a non binary\n",
       "    // socket, so there is still some room for performance tuning.\n",
       "    var ws = {};\n",
       "\n",
       "    ws.close = function() {\n",
       "        comm.close()\n",
       "    };\n",
       "    ws.send = function(m) {\n",
       "        //console.log('sending', m);\n",
       "        comm.send(m);\n",
       "    };\n",
       "    // Register the callback with on_msg.\n",
       "    comm.on_msg(function(msg) {\n",
       "        //console.log('receiving', msg['content']['data'], msg);\n",
       "        // Pass the mpl event to the overridden (by mpl) onmessage function.\n",
       "        ws.onmessage(msg['content']['data'])\n",
       "    });\n",
       "    return ws;\n",
       "}\n",
       "\n",
       "mpl.mpl_figure_comm = function(comm, msg) {\n",
       "    // This is the function which gets called when the mpl process\n",
       "    // starts-up an IPython Comm through the \"matplotlib\" channel.\n",
       "\n",
       "    var id = msg.content.data.id;\n",
       "    // Get hold of the div created by the display call when the Comm\n",
       "    // socket was opened in Python.\n",
       "    var element = $(\"#\" + id);\n",
       "    var ws_proxy = comm_websocket_adapter(comm)\n",
       "\n",
       "    function ondownload(figure, format) {\n",
       "        window.open(figure.imageObj.src);\n",
       "    }\n",
       "\n",
       "    var fig = new mpl.figure(id, ws_proxy,\n",
       "                           ondownload,\n",
       "                           element.get(0));\n",
       "\n",
       "    // Call onopen now - mpl needs it, as it is assuming we've passed it a real\n",
       "    // web socket which is closed, not our websocket->open comm proxy.\n",
       "    ws_proxy.onopen();\n",
       "\n",
       "    fig.parent_element = element.get(0);\n",
       "    fig.cell_info = mpl.find_output_cell(\"<div id='\" + id + \"'></div>\");\n",
       "    if (!fig.cell_info) {\n",
       "        console.error(\"Failed to find cell for figure\", id, fig);\n",
       "        return;\n",
       "    }\n",
       "\n",
       "    var output_index = fig.cell_info[2]\n",
       "    var cell = fig.cell_info[0];\n",
       "\n",
       "};\n",
       "\n",
       "mpl.figure.prototype.handle_close = function(fig, msg) {\n",
       "    var width = fig.canvas.width/mpl.ratio\n",
       "    fig.root.unbind('remove')\n",
       "\n",
       "    // Update the output cell to use the data from the current canvas.\n",
       "    fig.push_to_output();\n",
       "    var dataURL = fig.canvas.toDataURL();\n",
       "    // Re-enable the keyboard manager in IPython - without this line, in FF,\n",
       "    // the notebook keyboard shortcuts fail.\n",
       "    IPython.keyboard_manager.enable()\n",
       "    $(fig.parent_element).html('<img src=\"' + dataURL + '\" width=\"' + width + '\">');\n",
       "    fig.close_ws(fig, msg);\n",
       "}\n",
       "\n",
       "mpl.figure.prototype.close_ws = function(fig, msg){\n",
       "    fig.send_message('closing', msg);\n",
       "    // fig.ws.close()\n",
       "}\n",
       "\n",
       "mpl.figure.prototype.push_to_output = function(remove_interactive) {\n",
       "    // Turn the data on the canvas into data in the output cell.\n",
       "    var width = this.canvas.width/mpl.ratio\n",
       "    var dataURL = this.canvas.toDataURL();\n",
       "    this.cell_info[1]['text/html'] = '<img src=\"' + dataURL + '\" width=\"' + width + '\">';\n",
       "}\n",
       "\n",
       "mpl.figure.prototype.updated_canvas_event = function() {\n",
       "    // Tell IPython that the notebook contents must change.\n",
       "    IPython.notebook.set_dirty(true);\n",
       "    this.send_message(\"ack\", {});\n",
       "    var fig = this;\n",
       "    // Wait a second, then push the new image to the DOM so\n",
       "    // that it is saved nicely (might be nice to debounce this).\n",
       "    setTimeout(function () { fig.push_to_output() }, 1000);\n",
       "}\n",
       "\n",
       "mpl.figure.prototype._init_toolbar = function() {\n",
       "    var fig = this;\n",
       "\n",
       "    var nav_element = $('<div/>');\n",
       "    nav_element.attr('style', 'width: 100%');\n",
       "    this.root.append(nav_element);\n",
       "\n",
       "    // Define a callback function for later on.\n",
       "    function toolbar_event(event) {\n",
       "        return fig.toolbar_button_onclick(event['data']);\n",
       "    }\n",
       "    function toolbar_mouse_event(event) {\n",
       "        return fig.toolbar_button_onmouseover(event['data']);\n",
       "    }\n",
       "\n",
       "    for(var toolbar_ind in mpl.toolbar_items){\n",
       "        var name = mpl.toolbar_items[toolbar_ind][0];\n",
       "        var tooltip = mpl.toolbar_items[toolbar_ind][1];\n",
       "        var image = mpl.toolbar_items[toolbar_ind][2];\n",
       "        var method_name = mpl.toolbar_items[toolbar_ind][3];\n",
       "\n",
       "        if (!name) { continue; };\n",
       "\n",
       "        var button = $('<button class=\"btn btn-default\" href=\"#\" title=\"' + name + '\"><i class=\"fa ' + image + ' fa-lg\"></i></button>');\n",
       "        button.click(method_name, toolbar_event);\n",
       "        button.mouseover(tooltip, toolbar_mouse_event);\n",
       "        nav_element.append(button);\n",
       "    }\n",
       "\n",
       "    // Add the status bar.\n",
       "    var status_bar = $('<span class=\"mpl-message\" style=\"text-align:right; float: right;\"/>');\n",
       "    nav_element.append(status_bar);\n",
       "    this.message = status_bar[0];\n",
       "\n",
       "    // Add the close button to the window.\n",
       "    var buttongrp = $('<div class=\"btn-group inline pull-right\"></div>');\n",
       "    var button = $('<button class=\"btn btn-mini btn-primary\" href=\"#\" title=\"Stop Interaction\"><i class=\"fa fa-power-off icon-remove icon-large\"></i></button>');\n",
       "    button.click(function (evt) { fig.handle_close(fig, {}); } );\n",
       "    button.mouseover('Stop Interaction', toolbar_mouse_event);\n",
       "    buttongrp.append(button);\n",
       "    var titlebar = this.root.find($('.ui-dialog-titlebar'));\n",
       "    titlebar.prepend(buttongrp);\n",
       "}\n",
       "\n",
       "mpl.figure.prototype._root_extra_style = function(el){\n",
       "    var fig = this\n",
       "    el.on(\"remove\", function(){\n",
       "\tfig.close_ws(fig, {});\n",
       "    });\n",
       "}\n",
       "\n",
       "mpl.figure.prototype._canvas_extra_style = function(el){\n",
       "    // this is important to make the div 'focusable\n",
       "    el.attr('tabindex', 0)\n",
       "    // reach out to IPython and tell the keyboard manager to turn it's self\n",
       "    // off when our div gets focus\n",
       "\n",
       "    // location in version 3\n",
       "    if (IPython.notebook.keyboard_manager) {\n",
       "        IPython.notebook.keyboard_manager.register_events(el);\n",
       "    }\n",
       "    else {\n",
       "        // location in version 2\n",
       "        IPython.keyboard_manager.register_events(el);\n",
       "    }\n",
       "\n",
       "}\n",
       "\n",
       "mpl.figure.prototype._key_event_extra = function(event, name) {\n",
       "    var manager = IPython.notebook.keyboard_manager;\n",
       "    if (!manager)\n",
       "        manager = IPython.keyboard_manager;\n",
       "\n",
       "    // Check for shift+enter\n",
       "    if (event.shiftKey && event.which == 13) {\n",
       "        this.canvas_div.blur();\n",
       "        // select the cell after this one\n",
       "        var index = IPython.notebook.find_cell_index(this.cell_info[0]);\n",
       "        IPython.notebook.select(index + 1);\n",
       "    }\n",
       "}\n",
       "\n",
       "mpl.figure.prototype.handle_save = function(fig, msg) {\n",
       "    fig.ondownload(fig, null);\n",
       "}\n",
       "\n",
       "\n",
       "mpl.find_output_cell = function(html_output) {\n",
       "    // Return the cell and output element which can be found *uniquely* in the notebook.\n",
       "    // Note - this is a bit hacky, but it is done because the \"notebook_saving.Notebook\"\n",
       "    // IPython event is triggered only after the cells have been serialised, which for\n",
       "    // our purposes (turning an active figure into a static one), is too late.\n",
       "    var cells = IPython.notebook.get_cells();\n",
       "    var ncells = cells.length;\n",
       "    for (var i=0; i<ncells; i++) {\n",
       "        var cell = cells[i];\n",
       "        if (cell.cell_type === 'code'){\n",
       "            for (var j=0; j<cell.output_area.outputs.length; j++) {\n",
       "                var data = cell.output_area.outputs[j];\n",
       "                if (data.data) {\n",
       "                    // IPython >= 3 moved mimebundle to data attribute of output\n",
       "                    data = data.data;\n",
       "                }\n",
       "                if (data['text/html'] == html_output) {\n",
       "                    return [cell, data, j];\n",
       "                }\n",
       "            }\n",
       "        }\n",
       "    }\n",
       "}\n",
       "\n",
       "// Register the function which deals with the matplotlib target/channel.\n",
       "// The kernel may be null if the page has been refreshed.\n",
       "if (IPython.notebook.kernel != null) {\n",
       "    IPython.notebook.kernel.comm_manager.register_target('matplotlib', mpl.mpl_figure_comm);\n",
       "}\n"
      ],
      "text/plain": [
       "<IPython.core.display.Javascript object>"
      ]
     },
     "metadata": {},
     "output_type": "display_data"
    },
    {
     "data": {
      "text/html": [
       "<img src=\"data:image/png;base64,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\" width=\"640\">"
      ],
      "text/plain": [
       "<IPython.core.display.HTML object>"
      ]
     },
     "metadata": {},
     "output_type": "display_data"
    }
   ],
   "source": [
    "tsne = TSNE(n_components=2, random_state=0)\n",
    "np.set_printoptions(suppress=True)\n",
    "Y = tsne.fit_transform(arr)\n",
    "\n",
    "x_coords = Y[:, 0]\n",
    "y_coords = Y[:, 1]\n",
    "# display scatter plot\n",
    "plt.scatter(x_coords, y_coords)\n",
    "\n",
    "for label, x, y in zip(['K', 'Q', 'M', 'W', 'P'], x_coords, y_coords):\n",
    "    plt.annotate(label, xy=(x, y), xytext=(0, 0), textcoords='offset points')\n",
    "plt.xlim(x_coords.min()-10, x_coords.max()+10)\n",
    "plt.ylim(y_coords.min()-10, y_coords.max()+10)\n",
    "plt.show()"
   ]
  }
 ],
 "metadata": {
  "kernelspec": {
   "display_name": "Python 3",
   "language": "python",
   "name": "python3"
  },
  "language_info": {
   "codemirror_mode": {
    "name": "ipython",
    "version": 3
   },
   "file_extension": ".py",
   "mimetype": "text/x-python",
   "name": "python",
   "nbconvert_exporter": "python",
   "pygments_lexer": "ipython3",
   "version": "3.7.3"
  }
 },
 "nbformat": 4,
 "nbformat_minor": 2
}
